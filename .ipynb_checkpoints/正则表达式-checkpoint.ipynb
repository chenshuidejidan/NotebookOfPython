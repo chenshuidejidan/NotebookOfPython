{
 "cells": [
  {
   "cell_type": "markdown",
   "metadata": {},
   "source": [
    "# 正则表达式"
   ]
  },
  {
   "cell_type": "markdown",
   "metadata": {},
   "source": [
    "正则表达式是用来匹配字符串非常强大的工具，在其他编程语言中同样有正则表达式的概念，Python同样不例外，利用了正则表达式，我们想要从返回的页面内容提取出我们想要的内容就易如反掌了。"
   ]
  },
  {
   "cell_type": "markdown",
   "metadata": {},
   "source": [
    "正则表达式的大致匹配过程是：\n",
    "1. 依次拿出表达式和文本中的字符比较，\n",
    "2. 如果每一个字符都能匹配，则匹配成功；一旦有匹配不成功的字符则匹配失败。\n",
    "3. 如果表达式中有量词或边界，这个过程会稍微有一些不同。"
   ]
  },
  {
   "cell_type": "markdown",
   "metadata": {},
   "source": [
    "## 正则表达式的语法规则"
   ]
  },
  {
   "cell_type": "markdown",
   "metadata": {},
   "source": [
    "**字符**    \n",
    "\n",
    "|语法|<center>说明</center>|表达式实例|完整匹配的字符串|   \n",
    "|---|:---|------|---------|\n",
    "|一般字符|匹配自身|abc|abc|\n",
    "|**.**|匹配任意除换行符\"\\n\"外的字符|a.c|abc|\n",
    "|\\\\ |转义字符|a\\\\.b|a\\b|\n",
    "|\\\\ |如果有\\*需要匹配可以使用\\\\\\*或者字符集[\\*] |a\\\\c|a\\c|\n",
    "|[...]|字符集，对应位置可以是字符集中的任意字符。<br>字符集中的字符可逐个列出，也可写范围，也可写^表示非运算|a[^c-z]c|abc<br>aac|\n"
   ]
  },
  {
   "cell_type": "markdown",
   "metadata": {},
   "source": [
    "**预定字符集(可以写在字符集[...]中)**\n",
    "\n",
    "|语法|  说明  |表达式实例|完整匹配的字符串|   \n",
    "| ---|----|------|---------|\n",
    "|\\d|数字：[0-9]|a\\dc|a1c|\n",
    "|\\D|非数字：[^\\d]|a\\Dc|abc|\n",
    "|\\s|空白字符：[<空格>\\t \\r \\n \\f \\v]|a\\sc|a c|\n",
    "|\\S|非空白字符：[^\\s]|a\\Sc|abc|\n",
    "|\\w|单词字符：[A-Za-z0-9_]|a\\wc|abc|\n",
    "|\\W|非单词字符：[^\\w]|a\\Wc|a c|"
   ]
  },
  {
   "cell_type": "markdown",
   "metadata": {},
   "source": [
    "**数量词(用在字符或(...)之后)**   \n",
    "\n",
    "|语法|  <center>说明<center>  |表达式实例|完整匹配的字符串|   \n",
    "| ---|----|------|---------|\n",
    "|\\*|匹配前一个字符0次或无限次|abc\\*|ab<br>abcccc|\n",
    "|+|匹配前一个字符1次或无限次|abc+|abc<br>abcccc|\n",
    "|?|匹配前一个字符0次或无限次|abc?|ab<br>abc|\n",
    "|{m}|匹配前一个字符m次|ab{2}c|abbc|\n",
    "|{m,n}|匹配前一个字符m至n次<br>m省略表示从0开始，n省略表示可以匹配至无限次|ab{1,2}c|abc<br>abbc|\n",
    "|\\*? +?<br>{m,n}?|使 * + {m,n}变成非贪婪模式|"
   ]
  },
  {
   "cell_type": "markdown",
   "metadata": {},
   "source": [
    "**边界匹配(不消耗待匹配字符串中的字符)**\n",
    "\n",
    "|语法|  说明  |表达式实例|完整匹配的字符串|   \n",
    "| ---|----|------|---------|\n",
    "|^|匹配字符串开头<br>在多行模式中匹配每一行的开头|^abc|abc|\n",
    "|\\$|匹配字符串末尾<br>在多行模式中匹配每一行的末尾|abc\\$|abc|\n",
    "|\\A|仅匹配字符串开头|\\Aabc|abc|\n",
    "|\\Z|仅匹配字符串末尾|abc\\Z|abc|\n",
    "|\\b|匹配\\w和\\W之间|a\\b!bc|a!bc|\n",
    "|\\B|[^\\b]|a\\Bbc|abc|"
   ]
  },
  {
   "cell_type": "markdown",
   "metadata": {},
   "source": [
    "**逻辑、分组**\n",
    "\n",
    "|语法|  <center>说明<center>  |表达式实例|完整匹配的字符串|   \n",
    "| -------------|----|------|---------|\n",
    "|\\||\\|代表左右表达式任意匹配一个<br>它总是先尝试左边，失败再尝试右边，成功则跳过右边<br>如果\\|没有被包括在()中，那么它的范围是整个正则表达式|abc\\|def|abc<br>def|\n",
    "|(...)|被括起来的表达式将作为分组<br>从表达式左边开始每遇到一个分组的左括号'('，编号+1<br>分组表达式作为一个整体，可以接数量词，<br>表达式中的\\|仅在该组有效|(abc){2}<br>a(123\\|456)c|abcabc<br>a123c  a456c|\n",
    "|(?P&lt;name&gt;...)|分组，除了原有的编号外再制定一个额外的别名|(?P&lt;id&gt;abc){2}|abcabc|\n",
    "|\\\\&lt;number&gt;|引用编号为number的分组匹配到的字符串|(\\d)abc\\1|1abc1<br>5abc5|\n",
    "|(?P=name)|引用别名为&lt;name&gt;的分组匹配到的字符串|(?P&lt;ii&gt;\\d)abc(?P=ii)|1abc1<br>5abc5|"
   ]
  },
  {
   "cell_type": "markdown",
   "metadata": {},
   "source": [
    "此处插播小技巧，如何在markdowm里面打出<>括号呢，因为默认的<>会被识别为html语法，我们只需要用 **&lt ;和&gt ;**来代替就好了"
   ]
  },
  {
   "cell_type": "markdown",
   "metadata": {},
   "source": [
    "**特殊构造(不作为分组)**\n",
    "\n",
    "|语法|  说明  |表达式实例|完整匹配的字符串|   \n",
    "| ---|----|------|---------|\n",
    "|(?:...)|(...)的不分组版本，用于使用'\\|'或后接数量词|(?:abc){2}|abcabc|\n",
    "|(?iLmsux)|iLmsux的每个字符代表一个匹配模式<br>只能在正则表达式的开头，可选多个|(?i)abc|AbC|\n",
    "|(?#...)|#后的内容将作为注释被忽略|abc(?#comment)123|abc123|\n",
    "|(?=...)|=后的字符串内容需要匹配表达式才能成功匹配<br>不消耗字符串内容|a(?=\\d)|后面是数字的a|\n",
    "|(?!...)|后面的字符串内容需要不匹配表达式才能成功匹配<br>不消耗字符串内容|a(?!\\d)|后面不是数字的a|\n",
    "|(?<=...)|前面的字符串内容需要匹配表达式才能成功匹配<br>不消耗字符串内容|(?<=\\d)a|前面是数字的a|\n",
    "|(?<!...)|前面的字符串内容需要不匹配表达式才能成功匹配<br>不消耗字符串内容|(?<!\\d)a|前面不是数字的a|\n",
    "|(?(id/name)yes-pattern\\|no-pattern)|如果编号为id/别名为name的组匹配到字符<br>则需要匹配yes-pattern，否则需要匹配no-pattern<br>no-pattern可以省略|(\\d)abc(?(1)\\d\\|abc)|1abc2<br>abcabc|"
   ]
  },
  {
   "cell_type": "markdown",
   "metadata": {},
   "source": [
    "## 正则表达式的相关注解"
   ]
  },
  {
   "cell_type": "markdown",
   "metadata": {},
   "source": [
    "**数量词的贪婪模式与非贪婪模式**    \n",
    "\n",
    "Python里的正则表达式默认是贪婪模式，总是尝试尽可能多的匹配字符。    \n",
    "\n",
    "例如正则表达式 \" ab\\* \"，如果用于查找 \"abbb\"，将会找到\"abbb\"    \n",
    "\n",
    "如果使用非贪婪模式的数量词 \" ab\\*? \"，将会找到 \"a\"    \n",
    "\n",
    "为了准确度，我们一般都是用非贪婪模式来提取字符串"
   ]
  },
  {
   "cell_type": "markdown",
   "metadata": {},
   "source": [
    "**反斜杠的问题**  \n",
    "\n",
    "与大多数变成语言一样，\\ 作为转义字符，有时候会造成反斜杠困扰    \n",
    "\n",
    "例如需要匹配文本中的字符 \"\\\\\"，那么变成语言里表示的正则表达式里将需要4个反斜杠 \"\\\\\\\\\\\\\\\\\"    \n",
    "\n",
    "前两个和后两个分别用于在编程语言里转义成反斜杠，转换成两个反斜杠之后再在正则表达式里转义成一个反斜杠\n",
    "\n",
    "Python里的**原生字符串**很好的解决了这个问题，这个例子中的正则表达式可以用 r\"\\\\\\\\\"表示，同理，匹配一个数字的正则表达式 \"\\\\\\\\d\" 可以写成 r\"\\d\""
   ]
  },
  {
   "cell_type": "markdown",
   "metadata": {},
   "source": [
    "## Python re模块\n",
    "Python自带了re模块，它提供了对正则表达式的支持。主要用到的方法如下："
   ]
  },
  {
   "cell_type": "code",
   "execution_count": 1,
   "metadata": {},
   "outputs": [],
   "source": [
    "import re"
   ]
  },
  {
   "cell_type": "code",
   "execution_count": null,
   "metadata": {},
   "outputs": [],
   "source": [
    "#返回pattern对象\n",
    "re.compile(string[,flag])\n",
    "\n",
    "#以下为匹配所用函数\n",
    "re.match(pattern, string[,flags])\n",
    "re.search(pattern, string[,flags])\n",
    "re.split(pattern, string[,flags])\n",
    "re.findall(pattern, string[,flags])\n",
    "re.finditer(pattern, string[,flags])\n",
    "re.sub(pattern, repl, string[,flags])\n",
    "re.subn(pattern, repl, string[,flags])"
   ]
  },
  {
   "cell_type": "code",
   "execution_count": 2,
   "metadata": {},
   "outputs": [],
   "source": [
    "#pattern可以理解为一个匹配模式，获得pattern的方法：\n",
    "pattern = re.compile(r'hello') #将原声字符串对象'hello'编译为pattern对象"
   ]
  },
  {
   "cell_type": "markdown",
   "metadata": {},
   "source": [
    "**参数flag是匹配模式**，取值可以使用或运算'|'表示同时生效：re.l|re.M    \n",
    "* re.I (ignorecase)：忽略大小写    \n",
    "* re.M (multiline)：多行模式，改变'^'和'\\$'的行为\n",
    "* re.S (dotall)：点任意匹配模式，改变 ' . '的行为    \n",
    "* re.L (locale)：使预定字符类 \\w \\W \\b \\B \\s \\S 取决于当前区域设定    \n",
    "* re.U (unicode)：使预定字符类 \\w \\W \\b \\B \\s \\S 取决于unicode定义的字符属性\n",
    "* re.X (verbose)：详细模式。这个模式下正则表达式可以是多行，忽略空白字符，并可以加入注释\n",
    "\n",
    "\n",
    "**如果在pattern生成时已经指明了flags，那么在下面的方法中就不需要传入这个参数了**"
   ]
  },
  {
   "cell_type": "markdown",
   "metadata": {},
   "source": [
    "### （1） re.match(pattern, string[, flags])   \n",
    "这个方法从string的头开始，尝试匹配pattern，一直向后匹配    \n",
    "如果遇到无法匹配的字符，立即返回None，如果匹配未结束已经到达string末尾，也会返回None。两个结果均表示匹配失败，否则匹配pattern成功，同时匹配终止，不再对string向后匹配"
   ]
  },
  {
   "cell_type": "code",
   "execution_count": 5,
   "metadata": {},
   "outputs": [
    {
     "name": "stdout",
     "output_type": "stream",
     "text": [
      "hello\n",
      "hello\n",
      "匹配3失败\n",
      "匹配4失败\n"
     ]
    }
   ],
   "source": [
    "#导入re模块\n",
    "import re\n",
    "\n",
    "#将正则表达式编译成pattern对象，hello前面的r的意思表示原生字符串\n",
    "pattern = re.compile(r'hello')\n",
    "\n",
    "#使用re.math匹配文本，获得匹配结果，无法匹配时将返回None\n",
    "result1 = re.match(pattern, 'hello')\n",
    "result2 = re.match(pattern, 'helloo jjkanka')\n",
    "result3 = re.match(pattern, 'hell ads')\n",
    "result4 = re.match(pattern, 'helo asd')\n",
    "\n",
    "print(result1.group()) if result1 else print('匹配1失败')\n",
    "print(result2.group()) if result2 else print('匹配2失败')\n",
    "print(result3.group()) if result3 else print('匹配3失败')\n",
    "print(result4.group()) if result4 else print('匹配4失败')"
   ]
  },
  {
   "cell_type": "code",
   "execution_count": 38,
   "metadata": {},
   "outputs": [
    {
     "name": "stdout",
     "output_type": "stream",
     "text": [
      "匹配5失败\n"
     ]
    },
    {
     "data": {
      "text/plain": [
       "re.compile(r'hello', re.UNICODE)"
      ]
     },
     "execution_count": 38,
     "metadata": {},
     "output_type": "execute_result"
    }
   ],
   "source": [
    "# match函数只检测re是不是在string的0位置匹配！\n",
    "result5 = re.match(pattern, 'as hello')\n",
    "print(result5.group()) if result5 else print('匹配5失败')"
   ]
  },
  {
   "cell_type": "code",
   "execution_count": 8,
   "metadata": {},
   "outputs": [
    {
     "name": "stdout",
     "output_type": "stream",
     "text": [
      "<re.Match object; span=(0, 5), match='hello'>\n"
     ]
    }
   ],
   "source": [
    "#注意re.match()函数返回的是re.Match 对象\n",
    "print(result2)"
   ]
  },
  {
   "cell_type": "markdown",
   "metadata": {},
   "source": [
    "#### Match对象\n",
    "Match对象是一次匹配的结果，包含了很多关于此次匹配的信息，可以用Match提供的可读属性或方法来获取这些信息。"
   ]
  },
  {
   "cell_type": "markdown",
   "metadata": {},
   "source": [
    "**属性**\n",
    "\n",
    "1. string  ：匹配时使用的文本\n",
    "2. re  ：匹配时使用的pattern对象\n",
    "3. pos  ：文本中正则表达式开始搜索的索引。值与Pattern.match()和Pattern.seach()方法的同名参数相同\n",
    "4. endpos  ：文本中正则表达式结束搜索的索引。值与Pattern.match()和Pattern.search()方法的同名参数形同\n",
    "5. lastindex  ：最后一个被捕获的分组在文本中的索引。如果没有被捕获的分组，将为None\n",
    "6. lastgroup  ：最后一个被捕获的分组的别名。如果这个分组没有别名或没有被捕获的分组，将为None\n",
    "\n"
   ]
  },
  {
   "cell_type": "markdown",
   "metadata": {},
   "source": [
    "**方法**\n",
    "\n",
    "1. group(group1,...)  ：获得一个或多个分组截取的字符串，指定多个参数时将以元组形式返回\n",
    "2. groups(default)  ：以元组形式返回全部分组截获的字符串。相当于调用 group(1,2,...last)。default表示没有截获字符串的组以这个值替代，默认为None\n",
    "3. groupdict(default)  ：返回以有别名的组的别名为键、以该组截获的子串为值的字典，没有别名的组不包含在内\n",
    "4. start(group)  ：返回指定的组截获的子串在string中的起始索引(子串第一个字符的索引)。group默认值为0\n",
    "5. end(group)  ：返回指定的组截获的子串在string中的结束索引(子串最后一个字符的索引+1)。group默认值为0\n",
    "6. span(group)  ：返回 (start(group), end(group))\n",
    "7. expand(template)  ：将匹配到的分组代入template中，然后返回。template中可以使用\\id或\\g、\\g引用分组，但不能使用编号0。\\id与\\g时等价的，但\\10将被认为是第10个分组，如果要表达\\1之后是字符 '0' ，只能使用 \\g0"
   ]
  },
  {
   "cell_type": "code",
   "execution_count": 25,
   "metadata": {},
   "outputs": [
    {
     "name": "stdout",
     "output_type": "stream",
     "text": [
      "m.string : hello world!!\n",
      "m.re : re.compile('(\\\\w+) (\\\\w+)(?P<sign>.*)')\n",
      "m.pos : 0\n",
      "m.endpos : 13\n",
      "m.lastindex : 3\n",
      "m.lastgroup : sign\n",
      "m.group() : hello world!!\n",
      "m.group(1,2) : ('hello', 'world')\n",
      "m.groups() : ('hello', 'world', '!!')\n",
      "m.groupdict() : {'sign': '!!'}\n",
      "m.start(2) : 6\n",
      "m.end(2) : 11\n",
      "m.span(2) : (6, 11)\n",
      "m.expand(r'\\g \\g\\g') : world hello!!\n"
     ]
    }
   ],
   "source": [
    "import re\n",
    "# 匹配如下内容：单词+空格+单词+任意字符\n",
    "m = re.match(r'(\\w+) (\\w+)(?P<sign>.*)', 'hello world!!')\n",
    " \n",
    "print(\"m.string :\", m.string)\n",
    "print(\"m.re :\", m.re)\n",
    "print(\"m.pos :\", m.pos)\n",
    "print(\"m.endpos :\", m.endpos)\n",
    "print(\"m.lastindex :\", m.lastindex)\n",
    "print(\"m.lastgroup :\", m.lastgroup)\n",
    "print(\"m.group() :\", m.group())\n",
    "print(\"m.group(1,2) :\", m.group(1, 2))\n",
    "print(\"m.groups() :\", m.groups())\n",
    "print(\"m.groupdict() :\", m.groupdict())   #注意只返回有别名的组的键值对\n",
    "print(\"m.start(2) :\", m.start(2))    \n",
    "print(\"m.end(2) :\", m.end(2))    #注意返回的是结束索引+1\n",
    "print(\"m.span(2) :\", m.span(2))\n",
    "print(r\"m.expand(r'\\g \\g\\g') :\", m.expand(r'\\2 \\1\\3'))"
   ]
  },
  {
   "cell_type": "code",
   "execution_count": 35,
   "metadata": {},
   "outputs": [
    {
     "data": {
      "text/plain": [
       "('hello', 'world', '!!')"
      ]
     },
     "execution_count": 35,
     "metadata": {},
     "output_type": "execute_result"
    }
   ],
   "source": [
    "m.group(1,2,3)"
   ]
  },
  {
   "cell_type": "markdown",
   "metadata": {},
   "source": [
    "### (2) re.search(pattern, string[,flags])    \n",
    "\n",
    "search 方法与 match 方法极其类似，区别在于 **match() 函数只检测 re 是不是在string的开始位置匹配，search() 会扫描整个string查找匹配**，match() 只有在0位置匹配成功才会有返回，如果表示0位置匹配成功的话，match()就会返回None。\n",
    "\n",
    "search方法的返回对象同样有match()返回对象的属性和方法"
   ]
  },
  {
   "cell_type": "code",
   "execution_count": 39,
   "metadata": {},
   "outputs": [
    {
     "name": "stdout",
     "output_type": "stream",
     "text": [
      "search匹配成功： world\n",
      "match匹配失败！\n"
     ]
    }
   ],
   "source": [
    "#导入re模块\n",
    "import re\n",
    " \n",
    "# 将正则表达式编译成Pattern对象\n",
    "pattern = re.compile(r'world')\n",
    "# 使用search()查找匹配的子串，不存在能匹配的子串时将返回None\n",
    "# 这个例子中使用match()无法成功匹配\n",
    "search = re.search(pattern,'hello world!')\n",
    "match = re.match(pattern, 'hello world!')\n",
    "\n",
    "print('search匹配成功：',search.group()) if search else print('search匹配失败！')\n",
    "print('match匹配成功：',match.group()) if match else print('match匹配失败！')"
   ]
  },
  {
   "cell_type": "markdown",
   "metadata": {},
   "source": [
    "### (3) re.split(pattern, string[,maxsplit])\n",
    "\n",
    "按照能够匹配的子串将string分割后返回列表    \n",
    "maxsplit用于指定最大分割次数，不指定将全部分割"
   ]
  },
  {
   "cell_type": "code",
   "execution_count": 41,
   "metadata": {},
   "outputs": [
    {
     "name": "stdout",
     "output_type": "stream",
     "text": [
      "['one', 'two', 'three', 'four', '']\n"
     ]
    }
   ],
   "source": [
    "import re\n",
    "\n",
    "#正则表达式为数字 匹配1次到无数次\n",
    "pattern = re.compile(r'\\d+')\n",
    "print(re.split(pattern,'one1two2three3four44'))"
   ]
  },
  {
   "cell_type": "markdown",
   "metadata": {},
   "source": [
    "### (4) re.findall(pattern, string[,flags])\n",
    "\n",
    "搜索string，以列表形式返回全部能匹配的子串"
   ]
  },
  {
   "cell_type": "code",
   "execution_count": 42,
   "metadata": {},
   "outputs": [
    {
     "name": "stdout",
     "output_type": "stream",
     "text": [
      "['1', '2', '3', '44']\n"
     ]
    }
   ],
   "source": [
    "import re\n",
    "\n",
    "pattern = re.compile(r'\\d+')\n",
    "print(re.findall(pattern, 'one1two2three3four44'))"
   ]
  },
  {
   "cell_type": "markdown",
   "metadata": {},
   "source": [
    "### (5) re.finditer(pattern, string[,flags])\n",
    "\n",
    "搜索string，返回一个顺序访问每一个匹配结果(match对象)的迭代器"
   ]
  },
  {
   "cell_type": "code",
   "execution_count": 43,
   "metadata": {},
   "outputs": [
    {
     "name": "stdout",
     "output_type": "stream",
     "text": [
      "1\n",
      "2\n",
      "3\n",
      "44\n"
     ]
    }
   ],
   "source": [
    "import re\n",
    " \n",
    "pattern = re.compile(r'\\d+')\n",
    "for m in re.finditer(pattern,'one1two2three3four44'):\n",
    "    print(m.group())"
   ]
  },
  {
   "cell_type": "markdown",
   "metadata": {},
   "source": [
    "### (6) re.sub(pattern, repl, string[, count])"
   ]
  },
  {
   "cell_type": "markdown",
   "metadata": {},
   "source": [
    "使用repl替换string中每一个匹配的子串后返回替换后的字符串。    \n",
    "当repl是一个字符串时，可以使用\\id或\\g、\\g引用分组，但不能使用编号0。    \n",
    "当repl是一个方法时，这个方法应当只接受一个参数（Match对象），并返回一个字符串用于替换（返回的字符串中不能再引用分组）。    \n",
    "count用于指定最多替换次数，不指定时全部替换。    "
   ]
  },
  {
   "cell_type": "code",
   "execution_count": 2,
   "metadata": {},
   "outputs": [
    {
     "name": "stdout",
     "output_type": "stream",
     "text": [
      "say i, world hello!\n",
      "I Say, Hello World!\n"
     ]
    }
   ],
   "source": [
    "import re\n",
    " \n",
    "pattern = re.compile(r'(\\w+) (\\w+)')\n",
    "s = 'i say, hello world!'\n",
    " \n",
    "print(re.sub(pattern,r'\\2 \\1', s))\n",
    " \n",
    "def func(m):\n",
    "    return m.group(1).title() + ' ' + m.group(2).title()\n",
    " \n",
    "print(re.sub(pattern,func, s))"
   ]
  },
  {
   "cell_type": "markdown",
   "metadata": {},
   "source": [
    "## Python re模块的另一种使用方式"
   ]
  },
  {
   "cell_type": "markdown",
   "metadata": {},
   "source": [
    "在上面介绍的7个工具方法，例如match，search等等，调用方式都是 **re.match，re.search**的方式，其实还有另外一种调用方式，可以通过**pattern.match，pattern.search**调用，这样调用便不用将pattern作为第一个参数传入了"
   ]
  },
  {
   "cell_type": "code",
   "execution_count": null,
   "metadata": {},
   "outputs": [],
   "source": [
    "match(string[, pos[, endpos]])     re.match(pattern, string[, flags])\n",
    "search(string[, pos[, endpos]])     re.search(pattern, string[, flags])\n",
    "split(string[, maxsplit])                 re.split(pattern, string[, maxsplit])\n",
    "findall(string[, pos[, endpos]])     re.findall(pattern, string[, flags])\n",
    "finditer(string[, pos[, endpos]])   re.finditer(pattern, string[, flags])\n",
    "sub(repl, string[, count])              re.sub(pattern, repl, string[, count])\n",
    "subn(repl, string[, count])            re.sub(pattern, repl, string[, count])"
   ]
  },
  {
   "cell_type": "code",
   "execution_count": 6,
   "metadata": {},
   "outputs": [
    {
     "name": "stdout",
     "output_type": "stream",
     "text": [
      "None\n",
      "hello\n",
      "hello\n"
     ]
    }
   ],
   "source": [
    "# match 函数\n",
    "import re\n",
    "pattern = re.compile(r'hello')\n",
    "s1 = 'i say, hello world'\n",
    "s2 = 'helloooo'\n",
    "print(pattern.match(s1))\n",
    "print(pattern.match(s1,7).group())\n",
    "print(pattern.match(s2).group())"
   ]
  },
  {
   "cell_type": "code",
   "execution_count": 10,
   "metadata": {},
   "outputs": [
    {
     "name": "stdout",
     "output_type": "stream",
     "text": [
      "hello\n",
      "None\n"
     ]
    }
   ],
   "source": [
    "# search 函数\n",
    "import re\n",
    "pattern = re.compile(r'hello')\n",
    "s = 'i say, hello world'\n",
    "\n",
    "print(pattern.search(s).group())\n",
    "print(pattern.search(s,8))"
   ]
  },
  {
   "cell_type": "code",
   "execution_count": 12,
   "metadata": {},
   "outputs": [
    {
     "name": "stdout",
     "output_type": "stream",
     "text": [
      "['one', 'two', 'three', '']\n",
      "['one', 'two', 'three33333']\n"
     ]
    }
   ],
   "source": [
    "# split 函数\n",
    "import re\n",
    "pattern = re.compile(r'\\d+')\n",
    "s = 'one1two22three33333'\n",
    "\n",
    "print(pattern.split(s))\n",
    "print(pattern.split(s,2))   #split(string, maxsplit) 指定最大分割次数(而不是分割组数) "
   ]
  },
  {
   "cell_type": "code",
   "execution_count": 24,
   "metadata": {},
   "outputs": [
    {
     "name": "stdout",
     "output_type": "stream",
     "text": [
      "['1', '2', '2', '3', '3', '3']\n",
      "['2']\n"
     ]
    }
   ],
   "source": [
    "# findall 函数\n",
    "import re\n",
    "pattern = re.compile(r'\\d')\n",
    "s = 'one1two22three333'\n",
    "\n",
    "print(pattern.findall(s))\n",
    "print(pattern.findall(s,4,8))"
   ]
  },
  {
   "cell_type": "code",
   "execution_count": 28,
   "metadata": {},
   "outputs": [
    {
     "name": "stdout",
     "output_type": "stream",
     "text": [
      "1\n",
      "2\n",
      "2\n",
      "3\n",
      "3\n",
      "3\n"
     ]
    }
   ],
   "source": [
    "# finditer 函数\n",
    "import re\n",
    "pattern = re.compile(r'\\d')\n",
    "s = 'one1two22three333'\n",
    "\n",
    "m = pattern.finditer(s)\n",
    "for item in m:\n",
    "    print(item.group())"
   ]
  },
  {
   "cell_type": "code",
   "execution_count": 31,
   "metadata": {},
   "outputs": [
    {
     "name": "stdout",
     "output_type": "stream",
     "text": [
      "say i, world hello!\n",
      "say i, hello world!\n"
     ]
    }
   ],
   "source": [
    "# sub 函数\n",
    "import re\n",
    "pattern = re.compile(r'(\\w+) (\\w+)')\n",
    "s = 'i say, hello world!'\n",
    " \n",
    "print(pattern.sub(r'\\2 \\1', s))\n",
    "print(pattern.sub(r'\\2 \\1', s,1))"
   ]
  }
 ],
 "metadata": {
  "kernelspec": {
   "display_name": "Python 3",
   "language": "python",
   "name": "python3"
  },
  "language_info": {
   "codemirror_mode": {
    "name": "ipython",
    "version": 3
   },
   "file_extension": ".py",
   "mimetype": "text/x-python",
   "name": "python",
   "nbconvert_exporter": "python",
   "pygments_lexer": "ipython3",
   "version": "3.7.3"
  }
 },
 "nbformat": 4,
 "nbformat_minor": 2
}
