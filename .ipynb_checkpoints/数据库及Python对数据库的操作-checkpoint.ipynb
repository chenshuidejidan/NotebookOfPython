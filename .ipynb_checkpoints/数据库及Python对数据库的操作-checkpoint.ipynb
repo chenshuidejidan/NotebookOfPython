{
 "cells": [
  {
   "cell_type": "markdown",
   "metadata": {},
   "source": [
    "# 数据库"
   ]
  },
  {
   "cell_type": "markdown",
   "metadata": {},
   "source": [
    "我们平时说的数据库，指的是数据库管理系统"
   ]
  },
  {
   "cell_type": "markdown",
   "metadata": {},
   "source": [
    "## 1.1 mysql数据库"
   ]
  },
  {
   "cell_type": "markdown",
   "metadata": {},
   "source": [
    "MariaDB：MariaDB的目的是完全兼容MySQL，包括API和命令行，使之能够轻松称为MySQL的替代品"
   ]
  },
  {
   "cell_type": "markdown",
   "metadata": {},
   "source": [
    "### 关系数据库"
   ]
  },
  {
   "cell_type": "markdown",
   "metadata": {},
   "source": [
    "比较流行的非关系数据库如：Mongodb, redis"
   ]
  },
  {
   "cell_type": "markdown",
   "metadata": {},
   "source": [
    "### json格式"
   ]
  },
  {
   "cell_type": "code",
   "execution_count": 10,
   "metadata": {},
   "outputs": [
    {
     "name": "stdout",
     "output_type": "stream",
     "text": [
      "{'a': 100, 'b': 200}\n"
     ]
    }
   ],
   "source": [
    "import json\n",
    "\n",
    "data_1 = \"{'a':100, 'b':200}\"    #引号不对，报错\n",
    "data_2 = '{\"a\":100, \"b\":200}'\n",
    "\n",
    "j_data2 = json.loads(data_2)\n",
    "print(j_data2)"
   ]
  },
  {
   "cell_type": "code",
   "execution_count": 11,
   "metadata": {},
   "outputs": [
    {
     "name": "stdout",
     "output_type": "stream",
     "text": [
      "{'a': 100, 'b': 200}\n"
     ]
    }
   ],
   "source": [
    "with open('/Users/hejia/Desktop/data.json','r') as f:\n",
    "    j_data = json.load(f)\n",
    "    print(j_data)"
   ]
  },
  {
   "cell_type": "markdown",
   "metadata": {},
   "source": [
    "## 1.2 mysql数据库基本操作"
   ]
  },
  {
   "cell_type": "markdown",
   "metadata": {},
   "source": [
    "* 连接数据库    \n",
    "    mysql -u root -p     \n",
    "    u是用户名   p是密码    \n",
    "        \n",
    "        \n",
    "* 查看数据库    \n",
    "    show databases;    \n",
    "        \n",
    "        \n",
    "* 选择数据库    \n",
    "    use databases_name;    \n",
    "        \n",
    "        \n",
    "* 查看数据库中的table表    \n",
    "    show tables;    \n",
    "        \n",
    "        \n",
    "* 查看表格的结构    \n",
    "    desc tables;    \n",
    "        \n",
    "        \n",
    "* 查看表中的数据    \n",
    "    select * from table_name;    \n",
    "        \n",
    "        \n",
    "* 查看数据并限制数量    \n",
    "    select * from table_name limit 10;    \n",
    "    \n",
    "    "
   ]
  },
  {
   "cell_type": "markdown",
   "metadata": {},
   "source": [
    "### 数据库管理工具\n",
    "    \n",
    "Sequel Pro (MacOS)     \n",
    "HeidiSQL (Windows)"
   ]
  },
  {
   "cell_type": "markdown",
   "metadata": {},
   "source": [
    "### 命令行操作数据库\n",
    "\n",
    "* 创建数据库    \n",
    "    create database database_name     \n",
    "    \n",
    "* 删除数据库    \n",
    "    drop database database_name    \n",
    "    \n",
    "* 创建表格    \n",
    "<pre/>\n",
    "create table 'class' {\n",
    "    'id' int(11) unsigned NOT NULL AUTO_INCREMENT,\n",
    "    'name' varchar(80) NOT NULL,\n",
    "    PRIMARY KEY('id')\n",
    "};\n",
    "</pre>"
   ]
  },
  {
   "cell_type": "markdown",
   "metadata": {},
   "source": [
    "## 1.3 Python操作数据库"
   ]
  },
  {
   "cell_type": "markdown",
   "metadata": {},
   "source": [
    "### **环境的配置**\n",
    "* 使用管理员身份运行！(很重要，否则安装时写入错误)     \n",
    "conda install -c bioconda mysqlclient  安装mysql client        \n",
    "conda install pymysql   安装pymysql 也可以直接管理员身份打开conda图形界面安装    "
   ]
  },
  {
   "cell_type": "code",
   "execution_count": 5,
   "metadata": {},
   "outputs": [],
   "source": [
    "import pymysql"
   ]
  },
  {
   "cell_type": "code",
   "execution_count": 9,
   "metadata": {},
   "outputs": [],
   "source": [
    "### 1.连接数据库\n",
    "\n",
    "DATABASE = {\n",
    "    'host' : 'localhost',   #localhost相当于127.0.0.1   如果是远程数据库，此处为远程服务器的ip地址\n",
    "    'database' : 'examination_1',\n",
    "    'user' : 'root',\n",
    "    'password' : 'janshan123',\n",
    "    'port':3306\n",
    "    \n",
    "}\n",
    "\n",
    "#db = pymysql.connect('localhost', 'root', 'janshan123', 'Examination_1')\n",
    "#db = pymysql.connect(host = '127.0.0.1', user = 'root', password = 'janshan123', db = 'examination_1',port = 3306)\n",
    "db = pymysql.connect(**DATABASE)\n",
    "#db现在就代表我们的数据库"
   ]
  },
  {
   "cell_type": "markdown",
   "metadata": {},
   "source": [
    "* 犯的几点错误：    \n",
    "    1. port的内容 不能用引号引起来，否则报错\n",
    "    2. Python 3.x 已经不支持MySQLdb模块，转而使用pymysql模块\n",
    "    3. 若出现'latin-1' codec can't encode characters in position 2-3:ordinal not in range(256)错误，或者读取数据库时出现乱码，只需增加'charset'='utf8'设置即可"
   ]
  },
  {
   "cell_type": "markdown",
   "metadata": {},
   "source": [
    "### 游标"
   ]
  },
  {
   "cell_type": "code",
   "execution_count": 12,
   "metadata": {},
   "outputs": [],
   "source": [
    "#定义db的游标\n",
    "cursor = db.cursor()"
   ]
  },
  {
   "cell_type": "markdown",
   "metadata": {},
   "source": [
    "### 查询"
   ]
  },
  {
   "cell_type": "code",
   "execution_count": 14,
   "metadata": {},
   "outputs": [
    {
     "name": "stdout",
     "output_type": "stream",
     "text": [
      "(1, 'Jim', '高一一班')\n",
      "(2, 'Lihua', '高一二班')\n"
     ]
    }
   ],
   "source": [
    "sql = \"select * from class\"\n",
    "cursor.execute(sql)\n",
    "results = cursor.fetchall()\n",
    "for row in results:\n",
    "    print(row)"
   ]
  },
  {
   "cell_type": "code",
   "execution_count": 17,
   "metadata": {},
   "outputs": [
    {
     "name": "stdout",
     "output_type": "stream",
     "text": [
      "(1, 'Jim', '高一一班')\n"
     ]
    }
   ],
   "source": [
    "sql = \"select * from class where name = 'Jim'\"\n",
    "cursor.execute(sql)\n",
    "results = cursor.fetchall()\n",
    "for row in results:\n",
    "    print(row)"
   ]
  },
  {
   "cell_type": "markdown",
   "metadata": {},
   "source": [
    "### 捕捉异常"
   ]
  },
  {
   "cell_type": "code",
   "execution_count": 20,
   "metadata": {},
   "outputs": [
    {
     "name": "stdout",
     "output_type": "stream",
     "text": [
      "division by zero\n"
     ]
    }
   ],
   "source": [
    "try : \n",
    "    a = 10\n",
    "    b = a / 0\n",
    "except Exception as e:\n",
    "    print(e)"
   ]
  },
  {
   "cell_type": "code",
   "execution_count": null,
   "metadata": {},
   "outputs": [],
   "source": [
    "# 出错回滚   db.rollback()\n",
    "try : \n",
    "    sql = \"insert into 'class'('name') values('高一一班')\"\n",
    "    cursor = db.cursor()\n",
    "    cursor.execute(sql)\n",
    "    error = 10 + 'sasas'\n",
    "    db.commit()\n",
    "except Exception as e:\n",
    "    print(e)\n",
    "    db.rollback()"
   ]
  },
  {
   "cell_type": "code",
   "execution_count": null,
   "metadata": {},
   "outputs": [],
   "source": []
  },
  {
   "cell_type": "code",
   "execution_count": null,
   "metadata": {},
   "outputs": [],
   "source": []
  }
 ],
 "metadata": {
  "kernelspec": {
   "display_name": "Python 3",
   "language": "python",
   "name": "python3"
  },
  "language_info": {
   "codemirror_mode": {
    "name": "ipython",
    "version": 3
   },
   "file_extension": ".py",
   "mimetype": "text/x-python",
   "name": "python",
   "nbconvert_exporter": "python",
   "pygments_lexer": "ipython3",
   "version": "3.7.3"
  }
 },
 "nbformat": 4,
 "nbformat_minor": 2
}
