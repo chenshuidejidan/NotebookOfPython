{
 "cells": [
  {
   "cell_type": "markdown",
   "metadata": {},
   "source": [
    "# 一、介绍"
   ]
  },
  {
   "cell_type": "code",
   "execution_count": 2,
   "metadata": {},
   "outputs": [
    {
     "name": "stdout",
     "output_type": "stream",
     "text": [
      "hello world\n"
     ]
    }
   ],
   "source": [
    "print(\"hello world\")"
   ]
  },
  {
   "cell_type": "code",
   "execution_count": 3,
   "metadata": {},
   "outputs": [
    {
     "data": {
      "text/plain": [
       "31.0"
      ]
     },
     "execution_count": 3,
     "metadata": {},
     "output_type": "execute_result"
    }
   ],
   "source": [
    "# 四则运算\n",
    "1+(100-20)/4+5*2"
   ]
  },
  {
   "cell_type": "code",
   "execution_count": 4,
   "metadata": {},
   "outputs": [
    {
     "data": {
      "text/plain": [
       "1024"
      ]
     },
     "execution_count": 4,
     "metadata": {},
     "output_type": "execute_result"
    }
   ],
   "source": [
    "# 乘方运算\n",
    "2**10"
   ]
  },
  {
   "cell_type": "code",
   "execution_count": 5,
   "metadata": {},
   "outputs": [
    {
     "data": {
      "text/plain": [
       "2"
      ]
     },
     "execution_count": 5,
     "metadata": {},
     "output_type": "execute_result"
    }
   ],
   "source": [
    "# 求模运算\n",
    "7%5"
   ]
  },
  {
   "cell_type": "code",
   "execution_count": 6,
   "metadata": {},
   "outputs": [
    {
     "data": {
      "text/plain": [
       "1"
      ]
     },
     "execution_count": 6,
     "metadata": {},
     "output_type": "execute_result"
    }
   ],
   "source": [
    "# 地板除法\n",
    "7//5"
   ]
  },
  {
   "cell_type": "code",
   "execution_count": 10,
   "metadata": {},
   "outputs": [],
   "source": [
    "import math"
   ]
  },
  {
   "cell_type": "code",
   "execution_count": 13,
   "metadata": {},
   "outputs": [
    {
     "data": {
      "text/plain": [
       "1.0"
      ]
     },
     "execution_count": 13,
     "metadata": {},
     "output_type": "execute_result"
    }
   ],
   "source": [
    "math.sin(math.pi/2)"
   ]
  },
  {
   "cell_type": "code",
   "execution_count": 14,
   "metadata": {},
   "outputs": [
    {
     "data": {
      "text/plain": [
       "120"
      ]
     },
     "execution_count": 14,
     "metadata": {},
     "output_type": "execute_result"
    }
   ],
   "source": [
    "# 阶乘\n",
    "math.factorial(5)"
   ]
  },
  {
   "cell_type": "code",
   "execution_count": 15,
   "metadata": {},
   "outputs": [
    {
     "data": {
      "text/plain": [
       "(3+3j)"
      ]
     },
     "execution_count": 15,
     "metadata": {},
     "output_type": "execute_result"
    }
   ],
   "source": [
    "# 复数\n",
    "(1+2j)+(2+1j)"
   ]
  },
  {
   "cell_type": "code",
   "execution_count": 19,
   "metadata": {},
   "outputs": [
    {
     "data": {
      "text/plain": [
       "(4+0j)"
      ]
     },
     "execution_count": 19,
     "metadata": {},
     "output_type": "execute_result"
    }
   ],
   "source": [
    "# 复数 complex将两个整数转换为复数，或者将一个复数的字符串转换为复数\n",
    "complex(2,1)+(2-1j)"
   ]
  },
  {
   "cell_type": "code",
   "execution_count": 18,
   "metadata": {},
   "outputs": [
    {
     "data": {
      "text/plain": [
       "(1+1j)"
      ]
     },
     "execution_count": 18,
     "metadata": {},
     "output_type": "execute_result"
    }
   ],
   "source": [
    "complex(\"1+1j\")"
   ]
  },
  {
   "cell_type": "code",
   "execution_count": 1,
   "metadata": {},
   "outputs": [],
   "source": [
    "import math"
   ]
  },
  {
   "cell_type": "code",
   "execution_count": 2,
   "metadata": {},
   "outputs": [
    {
     "data": {
      "text/plain": [
       "9"
      ]
     },
     "execution_count": 2,
     "metadata": {},
     "output_type": "execute_result"
    }
   ],
   "source": [
    "# 向下取整\n",
    "math.floor(9.222333)"
   ]
  },
  {
   "cell_type": "code",
   "execution_count": 4,
   "metadata": {},
   "outputs": [
    {
     "data": {
      "text/plain": [
       "10"
      ]
     },
     "execution_count": 4,
     "metadata": {},
     "output_type": "execute_result"
    }
   ],
   "source": [
    "#向上取整\n",
    "math.ceil(9.222333)"
   ]
  },
  {
   "cell_type": "code",
   "execution_count": 5,
   "metadata": {},
   "outputs": [
    {
     "data": {
      "text/plain": [
       "3.333"
      ]
     },
     "execution_count": 5,
     "metadata": {},
     "output_type": "execute_result"
    }
   ],
   "source": [
    "# 保留有效数字\n",
    "round(10/3,3)"
   ]
  },
  {
   "cell_type": "markdown",
   "metadata": {},
   "source": [
    "# 二、输入和输出"
   ]
  },
  {
   "cell_type": "markdown",
   "metadata": {},
   "source": [
    "输入：input\n",
    "\n",
    "输出：output"
   ]
  },
  {
   "cell_type": "code",
   "execution_count": 4,
   "metadata": {},
   "outputs": [
    {
     "name": "stdout",
     "output_type": "stream",
     "text": [
      "please input your weight:70\n"
     ]
    },
    {
     "data": {
      "text/plain": [
       "'70'"
      ]
     },
     "execution_count": 4,
     "metadata": {},
     "output_type": "execute_result"
    }
   ],
   "source": [
    "# input 输入的都是字符串\n",
    "weight = input('please input your weight:')\n",
    "weight"
   ]
  },
  {
   "cell_type": "code",
   "execution_count": 3,
   "metadata": {},
   "outputs": [
    {
     "name": "stdout",
     "output_type": "stream",
     "text": [
      "please input your weight:70\n"
     ]
    },
    {
     "data": {
      "text/plain": [
       "70.0"
      ]
     },
     "execution_count": 3,
     "metadata": {},
     "output_type": "execute_result"
    }
   ],
   "source": [
    "# 利用float函数将字符串转换为浮点数\n",
    "weight = float(input('please input your weight:'))\n",
    "weight"
   ]
  },
  {
   "cell_type": "code",
   "execution_count": 5,
   "metadata": {},
   "outputs": [
    {
     "name": "stdout",
     "output_type": "stream",
     "text": [
      "please input your age:20\n"
     ]
    },
    {
     "data": {
      "text/plain": [
       "20"
      ]
     },
     "execution_count": 5,
     "metadata": {},
     "output_type": "execute_result"
    }
   ],
   "source": [
    "# 利用eval函数将舒服的字符串作为表达式进行计算\n",
    "age = eval(input('please input your age:'))\n",
    "age"
   ]
  },
  {
   "cell_type": "code",
   "execution_count": 6,
   "metadata": {},
   "outputs": [
    {
     "name": "stdout",
     "output_type": "stream",
     "text": [
      "your weight is: 70\n"
     ]
    }
   ],
   "source": [
    "# 输出用print\n",
    "print ('your weight is:',weight)"
   ]
  },
  {
   "cell_type": "markdown",
   "metadata": {},
   "source": [
    "# 三、导入模块"
   ]
  },
  {
   "cell_type": "markdown",
   "metadata": {},
   "source": [
    "**import...    \n",
    "或from...import...   \n",
    "或import...as...**"
   ]
  },
  {
   "cell_type": "code",
   "execution_count": 8,
   "metadata": {},
   "outputs": [
    {
     "data": {
      "text/plain": [
       "datetime.datetime(2019, 4, 12, 15, 23, 15, 393175)"
      ]
     },
     "execution_count": 8,
     "metadata": {},
     "output_type": "execute_result"
    }
   ],
   "source": [
    "# 以普通模式导入\n",
    "\n",
    "import datetime\n",
    "datetime.datetime.today()"
   ]
  },
  {
   "cell_type": "code",
   "execution_count": 9,
   "metadata": {},
   "outputs": [
    {
     "data": {
      "text/plain": [
       "datetime.datetime(2019, 4, 12, 15, 24, 38, 619163)"
      ]
     },
     "execution_count": 9,
     "metadata": {},
     "output_type": "execute_result"
    }
   ],
   "source": [
    "# 导入模块中\n",
    "\n",
    "from datetime import datetime\n",
    "datetime.today()"
   ]
  },
  {
   "cell_type": "code",
   "execution_count": 11,
   "metadata": {},
   "outputs": [
    {
     "data": {
      "text/plain": [
       "datetime.datetime(2019, 4, 12, 15, 25, 52, 370047)"
      ]
     },
     "execution_count": 11,
     "metadata": {},
     "output_type": "execute_result"
    }
   ],
   "source": [
    "# 导入模块中全部对象\n",
    "# 不推荐\n",
    "\n",
    "from datetime import *\n",
    "datetime.today()"
   ]
  },
  {
   "cell_type": "code",
   "execution_count": 12,
   "metadata": {},
   "outputs": [
    {
     "data": {
      "text/plain": [
       "datetime.datetime(2019, 4, 12, 15, 26, 42, 168850)"
      ]
     },
     "execution_count": 12,
     "metadata": {},
     "output_type": "execute_result"
    }
   ],
   "source": [
    "# 以简写方式导入模块\n",
    "\n",
    "import datetime as dt\n",
    "dt.datetime.today()"
   ]
  },
  {
   "cell_type": "markdown",
   "metadata": {},
   "source": [
    "# 四、语法规则"
   ]
  },
  {
   "cell_type": "markdown",
   "metadata": {},
   "source": [
    "1.标识符\n",
    "\n",
    "区分大小写\n",
    "单下划线开头表示不能直接访问的类属性 (\\_foo)     \n",
    "双下划线开头的表示类的私有成员  (\\_\\_foo)      \n",
    "双下划线开头和结尾的表示Python里特殊方法专用的标识符 (\\_\\_foo\\_\\_)  "
   ]
  },
  {
   "cell_type": "code",
   "execution_count": 13,
   "metadata": {},
   "outputs": [
    {
     "data": {
      "text/plain": [
       "'1.16.2'"
      ]
     },
     "execution_count": 13,
     "metadata": {},
     "output_type": "execute_result"
    }
   ],
   "source": [
    "import numpy\n",
    "numpy.__version__"
   ]
  },
  {
   "cell_type": "markdown",
   "metadata": {},
   "source": [
    "2.缩进   \n",
    "    \n",
    "不使用大括号控制，直接使用缩进来实现代码分组"
   ]
  },
  {
   "cell_type": "markdown",
   "metadata": {},
   "source": [
    "3.注释   \n",
    "\n",
    "采用 \\# 开头注释    \n",
    "多行注释使用三引号(''')或者三个双引号(\"\"\")"
   ]
  },
  {
   "cell_type": "markdown",
   "metadata": {},
   "source": [
    "4.一条语句可以分为多行显示    \n",
    "\n",
    "Python一般用新行作为语句的结束符   \n",
    "但是我们可以使用斜杠( \\\\ )将一行的语句分为多行显示  \n",
    "如果由{},[],(),跨行则可以不使用 \\"
   ]
  },
  {
   "cell_type": "code",
   "execution_count": 17,
   "metadata": {},
   "outputs": [
    {
     "data": {
      "text/plain": [
       "45"
      ]
     },
     "execution_count": 17,
     "metadata": {},
     "output_type": "execute_result"
    }
   ],
   "source": [
    "1+2+3+4+5+6+\\\n",
    "7+8+9"
   ]
  },
  {
   "cell_type": "code",
   "execution_count": 19,
   "metadata": {},
   "outputs": [],
   "source": [
    "a = [1,2,3\n",
    "    ,4,5]"
   ]
  },
  {
   "cell_type": "markdown",
   "metadata": {},
   "source": [
    "5.同一行显示多条语句   \n",
    "\n",
    "每句之后使用分号隔开   \n",
    "一般不使用   "
   ]
  },
  {
   "cell_type": "markdown",
   "metadata": {},
   "source": [
    "# 五、Python数据结构"
   ]
  },
  {
   "cell_type": "markdown",
   "metadata": {},
   "source": [
    "Python内建的数据结构有 列表、字符串、字典、集合    \n",
    "numpy中的array，以及pandas中的dataframe和series  "
   ]
  },
  {
   "cell_type": "markdown",
   "metadata": {},
   "source": [
    "1.有序数据结构：    \n",
    "\n",
    "list(列表)：无固定大小，可以通过偏移量等方法修改列表大小，如[1,2,3,4]   \n",
    "\n",
    "tuple(元组)：不可变！可以进行组合和复制运算后生成一个新的元组，如(1,2,3,4)   \n",
    "\n",
    "str(字符串)：如'hello'，不可变类型的变量\n",
    "\n",
    "**python中有可变对象和不可变对象      \n",
    "可变对象：list, dict       \n",
    "不可变对象有: int, string, float, tuple**"
   ]
  },
  {
   "cell_type": "code",
   "execution_count": 20,
   "metadata": {},
   "outputs": [
    {
     "name": "stdout",
     "output_type": "stream",
     "text": [
      "1\n"
     ]
    }
   ],
   "source": [
    "l = [1,2,3,4]\n",
    "print(l[0])"
   ]
  },
  {
   "cell_type": "code",
   "execution_count": 22,
   "metadata": {},
   "outputs": [
    {
     "name": "stdout",
     "output_type": "stream",
     "text": [
      "[3, 2, 3, 4]\n"
     ]
    }
   ],
   "source": [
    "l[0] = 3\n",
    "print(l)"
   ]
  },
  {
   "cell_type": "markdown",
   "metadata": {},
   "source": [
    "2.无序数据结构：   \n",
    "\n",
    "set(集合)：无序不重复的集合。基本功能包括关系运算和消除重复元素。如{'apple','banana','orange'}   \n",
    "\n",
    "dict(字典)：无序的键：值对(key:value)的集合，键必须是互不相同的。如{'ICBC':95588,'BOC':95566}  "
   ]
  },
  {
   "cell_type": "code",
   "execution_count": 23,
   "metadata": {},
   "outputs": [
    {
     "name": "stdout",
     "output_type": "stream",
     "text": [
      "95588\n"
     ]
    }
   ],
   "source": [
    "d = {'ICBC':95588,'BOC':95566}\n",
    "print(d['ICBC'])"
   ]
  },
  {
   "cell_type": "code",
   "execution_count": 25,
   "metadata": {},
   "outputs": [
    {
     "name": "stdout",
     "output_type": "stream",
     "text": [
      "{'ICBC': 95588000, 'BOC': 95566}\n"
     ]
    }
   ],
   "source": [
    "d['ICBC'] = 95588000\n",
    "print(d)"
   ]
  },
  {
   "cell_type": "markdown",
   "metadata": {},
   "source": [
    "# 六、列表\n",
    "\n",
    "可以容纳任意类型的对象，任意数量的对象"
   ]
  },
  {
   "cell_type": "code",
   "execution_count": 70,
   "metadata": {},
   "outputs": [
    {
     "name": "stdout",
     "output_type": "stream",
     "text": [
      "fruits =  ['apple', 'banana', 'orange']\n",
      "a =  [1, 3, 5, 7, 9]\n",
      "b =  [1, 2, 4, 8, 16]\n",
      "c =  [[0, 1, 2], [1, 2, 3], [2, 3, 4], [3, 4, 5]]\n"
     ]
    }
   ],
   "source": [
    "### 1.建立列表\n",
    "\n",
    "fruits = ['apple','banana','orange']\n",
    "a = list(range(1,11,2)) #建立从1(包含)到11(不包含)公差为2的等差数列\n",
    "b = [2**i for i in range(5)]\n",
    "c = [[i+j for i in range(3)] for j in range(4)]\n",
    "print('fruits = ',fruits)\n",
    "print('a = ',a)\n",
    "print('b = ',b)\n",
    "print('c = ',c)"
   ]
  },
  {
   "cell_type": "code",
   "execution_count": 44,
   "metadata": {},
   "outputs": [
    {
     "data": {
      "text/plain": [
       "[]"
      ]
     },
     "execution_count": 44,
     "metadata": {},
     "output_type": "execute_result"
    }
   ],
   "source": [
    "# 建立空列表\n",
    "list_0 = []\n",
    "list_0 = list()\n",
    "list_0"
   ]
  },
  {
   "cell_type": "code",
   "execution_count": 71,
   "metadata": {
    "scrolled": true
   },
   "outputs": [
    {
     "name": "stdout",
     "output_type": "stream",
     "text": [
      "a[1] =  3\n",
      "a[-2] =  7\n",
      "[1, 3]\n",
      "[5, 7, 9]\n",
      "[1, 3, 5]\n"
     ]
    }
   ],
   "source": [
    "### 2.访问列表\n",
    "#列表支持下标访问和切片访问\n",
    "\n",
    "print('a[1] = ',a[1])\n",
    "print('a[-2] = ',a[-2]) #倒数第二个元素\n",
    "print(a[0:2])\n",
    "print(a[2:])\n",
    "print(a[:-2])"
   ]
  },
  {
   "cell_type": "code",
   "execution_count": 72,
   "metadata": {},
   "outputs": [
    {
     "name": "stdout",
     "output_type": "stream",
     "text": [
      "[0, 5, 7, 9]\n",
      "[5, 7, 9]\n"
     ]
    }
   ],
   "source": [
    "### 3.修改列表 \n",
    "# list.remove(obj) 删除指定元素\n",
    "# del(list[index]) 删除指定索引处的元素\n",
    "a[0] = 0\n",
    "a.remove(3) \n",
    "print(a)\n",
    "del(a[0]) \n",
    "print(a)"
   ]
  },
  {
   "cell_type": "code",
   "execution_count": 73,
   "metadata": {},
   "outputs": [
    {
     "data": {
      "text/plain": [
       "[5, 7, 9, 1, 2, 3]"
      ]
     },
     "execution_count": 73,
     "metadata": {},
     "output_type": "execute_result"
    }
   ],
   "source": [
    "# list + list拼接，但不改变原列表\n",
    "a + [1,2,3] "
   ]
  },
  {
   "cell_type": "code",
   "execution_count": 74,
   "metadata": {},
   "outputs": [
    {
     "data": {
      "text/plain": [
       "[5, 7, 9, 5, 7, 9, 5, 7, 9]"
      ]
     },
     "execution_count": 74,
     "metadata": {},
     "output_type": "execute_result"
    }
   ],
   "source": [
    "# list*n  *可以复制拷贝多份,不改变原列表\n",
    "a * 3  "
   ]
  },
  {
   "cell_type": "code",
   "execution_count": 75,
   "metadata": {},
   "outputs": [
    {
     "data": {
      "text/plain": [
       "3"
      ]
     },
     "execution_count": 75,
     "metadata": {},
     "output_type": "execute_result"
    }
   ],
   "source": [
    "### 4.列表常用函数\n",
    "\n",
    "# len(list)  返回列表的长度\n",
    "# max(list)  min(list)\n",
    "# sorted(list)  排序\n",
    "# sorted(list, reverse = True)  逆序\n",
    "\n",
    "\n",
    "len(a)"
   ]
  },
  {
   "cell_type": "code",
   "execution_count": 76,
   "metadata": {},
   "outputs": [
    {
     "data": {
      "text/plain": [
       "5"
      ]
     },
     "execution_count": 76,
     "metadata": {},
     "output_type": "execute_result"
    }
   ],
   "source": [
    "max(a)\n",
    "min(a)"
   ]
  },
  {
   "cell_type": "code",
   "execution_count": 77,
   "metadata": {},
   "outputs": [
    {
     "data": {
      "text/plain": [
       "[5, 7, 9]"
      ]
     },
     "execution_count": 77,
     "metadata": {},
     "output_type": "execute_result"
    }
   ],
   "source": [
    "# 排序\n",
    "sorted(a)"
   ]
  },
  {
   "cell_type": "code",
   "execution_count": 78,
   "metadata": {},
   "outputs": [
    {
     "data": {
      "text/plain": [
       "[9, 7, 5]"
      ]
     },
     "execution_count": 78,
     "metadata": {},
     "output_type": "execute_result"
    }
   ],
   "source": [
    "# 逆序\n",
    "sorted(a,reverse = True)"
   ]
  },
  {
   "cell_type": "code",
   "execution_count": 79,
   "metadata": {},
   "outputs": [
    {
     "data": {
      "text/plain": [
       "[5, 7, 9, 1]"
      ]
     },
     "execution_count": 79,
     "metadata": {},
     "output_type": "execute_result"
    }
   ],
   "source": [
    "### 5.列表常用方法\n",
    "\n",
    "# list.append(obj)     修改列表，末尾增加一个元素\n",
    "# list.clear()         清空列表  \n",
    "# list.copy()          返回列表的拷贝 \n",
    "# list.count(obj)      查找元素出现次数 \n",
    "# list.extend(seq)     修改列表，列表拼接 \n",
    "# list.index(obj)      查找元素的索引 \n",
    "# list.insert(index, obj)指定位置插入元素 \n",
    "# list.pop(index)      弹出元素，并返回元素值  \n",
    "# list.remove(obj)     移除列表中某元素的第一个匹配项 \n",
    "# list.reverse()       反转列表 \n",
    "# list.sort()          排序\n",
    "\n",
    "a.append(1)\n",
    "a"
   ]
  },
  {
   "cell_type": "code",
   "execution_count": 89,
   "metadata": {},
   "outputs": [
    {
     "name": "stdout",
     "output_type": "stream",
     "text": [
      "2\n",
      "[5, 7, 9, 1, 5, 3, 1]\n"
     ]
    }
   ],
   "source": [
    "\n",
    "a = [5,7,9,1,5]\n",
    "print(a.count(5))\n",
    "\n",
    "\n",
    "b = [3,1]\n",
    "a.extend(b)\n",
    "print(a)"
   ]
  },
  {
   "cell_type": "code",
   "execution_count": 90,
   "metadata": {},
   "outputs": [
    {
     "name": "stdout",
     "output_type": "stream",
     "text": [
      "[5, 7, 9, 100, 1, 5, 3, 1]\n"
     ]
    }
   ],
   "source": [
    "# 指定位置插入元素\n",
    "a.insert(3,100)\n",
    "print(a)"
   ]
  },
  {
   "cell_type": "code",
   "execution_count": 91,
   "metadata": {},
   "outputs": [
    {
     "name": "stdout",
     "output_type": "stream",
     "text": [
      "[5, 9, 100, 1, 5, 3, 1]\n",
      "7\n"
     ]
    }
   ],
   "source": [
    "#弹出元素，并返回元素值 \n",
    "b = a.pop(1)\n",
    "print(a)\n",
    "print(b)"
   ]
  },
  {
   "cell_type": "code",
   "execution_count": 92,
   "metadata": {},
   "outputs": [
    {
     "name": "stdout",
     "output_type": "stream",
     "text": [
      "[5, 9, 1, 5, 3, 1]\n"
     ]
    }
   ],
   "source": [
    "#移除列表中某元素的第一个匹配项\n",
    "a.remove(100)\n",
    "print(a)"
   ]
  },
  {
   "cell_type": "code",
   "execution_count": 93,
   "metadata": {},
   "outputs": [
    {
     "name": "stdout",
     "output_type": "stream",
     "text": [
      "[1, 1, 3, 5, 5, 9]\n"
     ]
    }
   ],
   "source": [
    "#反转列表 \n",
    "\n",
    "#排序 \n",
    "a.sort()\n",
    "print(a)"
   ]
  },
  {
   "cell_type": "markdown",
   "metadata": {},
   "source": [
    "# 七、字典"
   ]
  },
  {
   "cell_type": "markdown",
   "metadata": {},
   "source": [
    "字典在插入元素和查找元素方面很多时候比列表更高效，无序移动其他元素！"
   ]
  },
  {
   "cell_type": "code",
   "execution_count": 46,
   "metadata": {},
   "outputs": [
    {
     "name": "stdout",
     "output_type": "stream",
     "text": [
      "{1: 3, 2: 4, 3: 6}\n",
      "{'a': 1, 'b': 2}\n",
      "{'x': 1, 'y': 2}\n",
      "{0: 0, 1: 1, 2: 4, 3: 9, 4: 16}\n"
     ]
    },
    {
     "data": {
      "text/plain": [
       "{'一': 100, '二': 200, '三': 101}"
      ]
     },
     "execution_count": 46,
     "metadata": {},
     "output_type": "execute_result"
    }
   ],
   "source": [
    "### 1.创建字典\n",
    "\n",
    "a = {1:3,2:4,3:6}\n",
    "b = dict([['a',1],['b',2]])\n",
    "c = dict(x = 1,y = 2)\n",
    "d = {i:i**2 for i in range(5)}\n",
    "print(a)\n",
    "print(b)\n",
    "print(c)\n",
    "print(d)\n",
    "\n",
    "# zip函数(拉锁函数)可以将两个列表转换为字典\n",
    "words = ['一', '二', '三']\n",
    "index = [100,200,101]\n",
    "dict(zip(words, index))"
   ]
  },
  {
   "cell_type": "code",
   "execution_count": 48,
   "metadata": {},
   "outputs": [
    {
     "data": {
      "text/plain": [
       "{'Lily': 10, 'Daming': 10, 'Lihua': 10}"
      ]
     },
     "execution_count": 48,
     "metadata": {},
     "output_type": "execute_result"
    }
   ],
   "source": [
    "# fromkeys()函数  快速生成字典\n",
    "\n",
    "students = ['Lily', 'Daming', 'Lihua']\n",
    "dict.fromkeys(students,10)"
   ]
  },
  {
   "cell_type": "code",
   "execution_count": 105,
   "metadata": {},
   "outputs": [
    {
     "name": "stdout",
     "output_type": "stream",
     "text": [
      "{1: 2, 2: 4, 3: 8, 5: 5}\n",
      "{'a': 5, 'b': 2}\n"
     ]
    }
   ],
   "source": [
    "### 2.字典常用操作\n",
    "\n",
    "# D[key] = 1              新增或修改键值\n",
    "# D.update(dict2)         把字典 dict2 的键/值对更新到 D里\n",
    "# D.copy()                返回一个字典的备份\n",
    "\n",
    "# D.keys()                返回一个字典的所有键\n",
    "# D.values()              返回一个字典的所有值\n",
    "# D.items()               以列表返回可遍历的(键，值)元组数组\n",
    "# D.get(key,default)      返回指定键的值，若键不存在则返回 default值\n",
    "# D.setdefault(key,default)   若键不存在则新增键/值\n",
    "# D.has_key(key)          如果键在字典里，返回 true，否则返回 false\n",
    "\n",
    "# D.pop(key)              删除一个键，并返回它的值\n",
    "# del D[key]              删除键\n",
    "# del(D[key])\n",
    "# D.clear()               删除字典内所有元素\n",
    "\n",
    "\n",
    "\n",
    "a[1] = 2\n",
    "b['a'] = 5\n",
    "print(a)\n",
    "print(b)"
   ]
  },
  {
   "cell_type": "code",
   "execution_count": 106,
   "metadata": {},
   "outputs": [
    {
     "data": {
      "text/plain": [
       "dict_keys([1, 2, 3, 5])"
      ]
     },
     "execution_count": 106,
     "metadata": {},
     "output_type": "execute_result"
    }
   ],
   "source": [
    "a.keys()"
   ]
  },
  {
   "cell_type": "code",
   "execution_count": 107,
   "metadata": {},
   "outputs": [
    {
     "data": {
      "text/plain": [
       "dict_values([2, 4, 8, 5])"
      ]
     },
     "execution_count": 107,
     "metadata": {},
     "output_type": "execute_result"
    }
   ],
   "source": [
    "a.values()"
   ]
  },
  {
   "cell_type": "code",
   "execution_count": 108,
   "metadata": {},
   "outputs": [
    {
     "data": {
      "text/plain": [
       "dict_items([(1, 2), (2, 4), (3, 8), (5, 5)])"
      ]
     },
     "execution_count": 108,
     "metadata": {},
     "output_type": "execute_result"
    }
   ],
   "source": [
    "a.items()"
   ]
  },
  {
   "cell_type": "code",
   "execution_count": 109,
   "metadata": {},
   "outputs": [
    {
     "data": {
      "text/plain": [
       "{1: 2, 2: 4, 3: 8, 5: 5}"
      ]
     },
     "execution_count": 109,
     "metadata": {},
     "output_type": "execute_result"
    }
   ],
   "source": [
    "a.update({3:8,5:5})\n",
    "a"
   ]
  },
  {
   "cell_type": "code",
   "execution_count": 146,
   "metadata": {},
   "outputs": [
    {
     "data": {
      "text/plain": [
       "{3: 8, 5: 5}"
      ]
     },
     "execution_count": 146,
     "metadata": {},
     "output_type": "execute_result"
    }
   ],
   "source": [
    "del(a[2])\n",
    "a"
   ]
  },
  {
   "cell_type": "code",
   "execution_count": 123,
   "metadata": {},
   "outputs": [
    {
     "ename": "KeyError",
     "evalue": "'e'",
     "output_type": "error",
     "traceback": [
      "\u001b[1;31m---------------------------------------------------------------------------\u001b[0m",
      "\u001b[1;31mKeyError\u001b[0m                                  Traceback (most recent call last)",
      "\u001b[1;32m<ipython-input-123-12cf965f99d3>\u001b[0m in \u001b[0;36m<module>\u001b[1;34m\u001b[0m\n\u001b[0;32m      1\u001b[0m \u001b[1;31m#直接访问不存在的 key的calue  报错\u001b[0m\u001b[1;33m\u001b[0m\u001b[1;33m\u001b[0m\u001b[1;33m\u001b[0m\u001b[0m\n\u001b[1;32m----> 2\u001b[1;33m \u001b[0mb\u001b[0m\u001b[1;33m[\u001b[0m\u001b[1;34m'e'\u001b[0m\u001b[1;33m]\u001b[0m\u001b[1;33m\u001b[0m\u001b[1;33m\u001b[0m\u001b[0m\n\u001b[0m",
      "\u001b[1;31mKeyError\u001b[0m: 'e'"
     ]
    }
   ],
   "source": [
    "#直接访问不存在的 key的 value  报错\n",
    "b['e']"
   ]
  },
  {
   "cell_type": "code",
   "execution_count": 118,
   "metadata": {},
   "outputs": [
    {
     "data": {
      "text/plain": [
       "0"
      ]
     },
     "execution_count": 118,
     "metadata": {},
     "output_type": "execute_result"
    }
   ],
   "source": [
    "#使用 get访问，并设置不存在时返回 0作为默认值\n",
    "b.get('e',0)"
   ]
  },
  {
   "cell_type": "code",
   "execution_count": 124,
   "metadata": {},
   "outputs": [
    {
     "data": {
      "text/plain": [
       "dict_items([('a', 5), ('b', 2), ('e', 4)])"
      ]
     },
     "execution_count": 124,
     "metadata": {},
     "output_type": "execute_result"
    }
   ],
   "source": [
    "b.setdefault('a',4)  #若key a存在则不变，若不存在，则加入，并设置 value为4\n",
    "b.setdefault('e',4)\n",
    "b.items()"
   ]
  },
  {
   "cell_type": "markdown",
   "metadata": {},
   "source": [
    "# 八、字符串\n",
    "\n",
    "字符串是不可变类型的变量      \n",
    "每次都是新建一个字符串，而不是对原字符串的修改"
   ]
  },
  {
   "cell_type": "code",
   "execution_count": 10,
   "metadata": {},
   "outputs": [
    {
     "data": {
      "text/plain": [
       "(2733190524464, 2733190524464)"
      ]
     },
     "execution_count": 10,
     "metadata": {},
     "output_type": "execute_result"
    }
   ],
   "source": [
    "line = 'strrrr'\n",
    "line1 = 'strrrr'\n",
    "id(line),id(line1)\n",
    "#id函数返回一个身份识别符，这说明相同内容的字符串指向的是同一片内存空间"
   ]
  },
  {
   "cell_type": "code",
   "execution_count": 11,
   "metadata": {},
   "outputs": [
    {
     "data": {
      "text/plain": [
       "True"
      ]
     },
     "execution_count": 11,
     "metadata": {},
     "output_type": "execute_result"
    }
   ],
   "source": [
    "# is 是判断两个对象的id值是否相等，即是否指向同一片内存空间\n",
    "line is line1"
   ]
  },
  {
   "cell_type": "code",
   "execution_count": 14,
   "metadata": {},
   "outputs": [
    {
     "data": {
      "text/plain": [
       "(True, True, True, False)"
      ]
     },
     "execution_count": 14,
     "metadata": {},
     "output_type": "execute_result"
    }
   ],
   "source": [
    "# ==是判断两个对象的值是否相等\n",
    "\n",
    "a=1\n",
    "b=1\n",
    "list_1 = [1,2,3]\n",
    "list_2 = [1,2,3]\n",
    "a==b, a is b, list_1 == list_2, list_1 is list_2"
   ]
  },
  {
   "cell_type": "code",
   "execution_count": 21,
   "metadata": {},
   "outputs": [
    {
     "ename": "TypeError",
     "evalue": "'str' object does not support item assignment",
     "output_type": "error",
     "traceback": [
      "\u001b[1;31m---------------------------------------------------------------------------\u001b[0m",
      "\u001b[1;31mTypeError\u001b[0m                                 Traceback (most recent call last)",
      "\u001b[1;32m<ipython-input-21-41790147c626>\u001b[0m in \u001b[0;36m<module>\u001b[1;34m\u001b[0m\n\u001b[0;32m      1\u001b[0m \u001b[1;31m# 不能为字符串的字符赋值\u001b[0m\u001b[1;33m\u001b[0m\u001b[1;33m\u001b[0m\u001b[1;33m\u001b[0m\u001b[0m\n\u001b[0;32m      2\u001b[0m \u001b[1;33m\u001b[0m\u001b[0m\n\u001b[1;32m----> 3\u001b[1;33m \u001b[0mline\u001b[0m\u001b[1;33m[\u001b[0m\u001b[1;36m1\u001b[0m\u001b[1;33m]\u001b[0m \u001b[1;33m=\u001b[0m \u001b[1;34m'a'\u001b[0m\u001b[1;33m\u001b[0m\u001b[1;33m\u001b[0m\u001b[0m\n\u001b[0m",
      "\u001b[1;31mTypeError\u001b[0m: 'str' object does not support item assignment"
     ]
    }
   ],
   "source": [
    "# 不能为字符串的字符赋值\n",
    "\n",
    "line[1] = 'a'"
   ]
  },
  {
   "cell_type": "code",
   "execution_count": 125,
   "metadata": {},
   "outputs": [
    {
     "data": {
      "text/plain": [
       "\"I'm jj.\\nI use Python.\""
      ]
     },
     "execution_count": 125,
     "metadata": {},
     "output_type": "execute_result"
    }
   ],
   "source": [
    "### 1.创建字符串\n",
    "\n",
    "#使用单引号或双引号，合理使用可以避免使用转义字符\n",
    "s1 = 'I\\'m jj.\\nI use Python.' \n",
    "s1"
   ]
  },
  {
   "cell_type": "code",
   "execution_count": 126,
   "metadata": {},
   "outputs": [
    {
     "name": "stdout",
     "output_type": "stream",
     "text": [
      "I'm jj.\n",
      "I use Python.\n"
     ]
    }
   ],
   "source": [
    "print(s1)"
   ]
  },
  {
   "cell_type": "code",
   "execution_count": 129,
   "metadata": {},
   "outputs": [
    {
     "name": "stdout",
     "output_type": "stream",
     "text": [
      "I'm jj.\n",
      "I use Python.\n",
      "haha\n",
      "\n"
     ]
    },
    {
     "data": {
      "text/plain": [
       "\"I'm jj.\\nI use Python.\\nhaha\\n\""
      ]
     },
     "execution_count": 129,
     "metadata": {},
     "output_type": "execute_result"
    }
   ],
   "source": [
    "#使用三引号创建字符串\n",
    "#单双引号均无需转义，直接保留换行的格式！\n",
    "\n",
    "s2 = '''I'm jj.\n",
    "I use Python.\n",
    "haha\n",
    "'''\n",
    "print(s2)\n",
    "s2"
   ]
  },
  {
   "cell_type": "code",
   "execution_count": 20,
   "metadata": {},
   "outputs": [
    {
     "data": {
      "text/plain": [
       "'12345'"
      ]
     },
     "execution_count": 20,
     "metadata": {},
     "output_type": "execute_result"
    }
   ],
   "source": [
    "#使用 str() 函数将其他类型直接转换为字符串\n",
    "\n",
    "s3 = str(12345)\n",
    "s3"
   ]
  },
  {
   "cell_type": "code",
   "execution_count": 15,
   "metadata": {},
   "outputs": [
    {
     "data": {
      "text/plain": [
       "'aaaa bbbb '"
      ]
     },
     "execution_count": 15,
     "metadata": {},
     "output_type": "execute_result"
    }
   ],
   "source": [
    "### 2.字符串常用操作\n",
    "\n",
    "##2.1 字符串拼接\n",
    "line = 'aaaa bbbb cccc dddd eeee ffff'\n",
    "\n",
    "#截取字符串前10个字符(0-10含左不含右)\n",
    "\n",
    "line[0:10]    "
   ]
  },
  {
   "cell_type": "code",
   "execution_count": 17,
   "metadata": {},
   "outputs": [
    {
     "data": {
      "text/plain": [
       "'aa bbcc dd'"
      ]
     },
     "execution_count": 17,
     "metadata": {},
     "output_type": "execute_result"
    }
   ],
   "source": [
    "#每隔一个截取一个，取前20个\n",
    "\n",
    "line[0:20:2]    "
   ]
  },
  {
   "cell_type": "code",
   "execution_count": 18,
   "metadata": {},
   "outputs": [
    {
     "data": {
      "text/plain": [
       "' eeee ffff'"
      ]
     },
     "execution_count": 18,
     "metadata": {},
     "output_type": "execute_result"
    }
   ],
   "source": [
    "#截取后10个字符\n",
    "\n",
    "line[-10:]         "
   ]
  },
  {
   "cell_type": "code",
   "execution_count": 19,
   "metadata": {},
   "outputs": [
    {
     "data": {
      "text/plain": [
       "'ffff eeee dddd cccc bbbb aaaa'"
      ]
     },
     "execution_count": 19,
     "metadata": {},
     "output_type": "execute_result"
    }
   ],
   "source": [
    "#字符串翻转\n",
    "\n",
    "line[ : : -1]    "
   ]
  },
  {
   "cell_type": "code",
   "execution_count": 24,
   "metadata": {},
   "outputs": [
    {
     "data": {
      "text/plain": [
       "'     aaaa bbbb cccc dddd eeee ffff      '"
      ]
     },
     "execution_count": 24,
     "metadata": {},
     "output_type": "execute_result"
    }
   ],
   "source": [
    "## 2.2 常用函数\n",
    "\n",
    "# 居中\n",
    "line.center(40)"
   ]
  },
  {
   "cell_type": "code",
   "execution_count": 25,
   "metadata": {},
   "outputs": [
    {
     "data": {
      "text/plain": [
       "4"
      ]
     },
     "execution_count": 25,
     "metadata": {},
     "output_type": "execute_result"
    }
   ],
   "source": [
    "# 计数\n",
    "line.count('a')"
   ]
  },
  {
   "cell_type": "code",
   "execution_count": 28,
   "metadata": {},
   "outputs": [
    {
     "data": {
      "text/plain": [
       "(False, True)"
      ]
     },
     "execution_count": 28,
     "metadata": {},
     "output_type": "execute_result"
    }
   ],
   "source": [
    "# 首尾判断\n",
    "line.endswith('aaaa'),line.startswith('aaaa')"
   ]
  },
  {
   "cell_type": "code",
   "execution_count": 29,
   "metadata": {},
   "outputs": [
    {
     "data": {
      "text/plain": [
       "-1"
      ]
     },
     "execution_count": 29,
     "metadata": {},
     "output_type": "execute_result"
    }
   ],
   "source": [
    "# 查找\n",
    "\n",
    "line.find('z')"
   ]
  },
  {
   "cell_type": "code",
   "execution_count": 30,
   "metadata": {},
   "outputs": [
    {
     "ename": "ValueError",
     "evalue": "substring not found",
     "output_type": "error",
     "traceback": [
      "\u001b[1;31m---------------------------------------------------------------------------\u001b[0m",
      "\u001b[1;31mValueError\u001b[0m                                Traceback (most recent call last)",
      "\u001b[1;32m<ipython-input-30-0ba7869449a0>\u001b[0m in \u001b[0;36m<module>\u001b[1;34m\u001b[0m\n\u001b[1;32m----> 1\u001b[1;33m \u001b[0mline\u001b[0m\u001b[1;33m.\u001b[0m\u001b[0mindex\u001b[0m\u001b[1;33m(\u001b[0m\u001b[1;34m'z'\u001b[0m\u001b[1;33m)\u001b[0m\u001b[1;33m\u001b[0m\u001b[1;33m\u001b[0m\u001b[0m\n\u001b[0m",
      "\u001b[1;31mValueError\u001b[0m: substring not found"
     ]
    }
   ],
   "source": [
    "line.index('z')           #find不存在时返回-1, index不存在时报错"
   ]
  },
  {
   "cell_type": "code",
   "execution_count": 32,
   "metadata": {},
   "outputs": [
    {
     "data": {
      "text/plain": [
       "'aabbccdd'"
      ]
     },
     "execution_count": 32,
     "metadata": {},
     "output_type": "execute_result"
    }
   ],
   "source": [
    "#大小写\n",
    "\n",
    "line = 'AAbbCCdd'\n",
    "line.lower()"
   ]
  },
  {
   "cell_type": "code",
   "execution_count": 33,
   "metadata": {},
   "outputs": [
    {
     "data": {
      "text/plain": [
       "'AABBCCDD'"
      ]
     },
     "execution_count": 33,
     "metadata": {},
     "output_type": "execute_result"
    }
   ],
   "source": [
    "line.upper()"
   ]
  },
  {
   "cell_type": "code",
   "execution_count": 38,
   "metadata": {},
   "outputs": [
    {
     "data": {
      "text/plain": [
       "False"
      ]
     },
     "execution_count": 38,
     "metadata": {},
     "output_type": "execute_result"
    }
   ],
   "source": [
    "#标题\n",
    "\n",
    "line.istitle()     #首字母大写，其他小写的为标题"
   ]
  },
  {
   "cell_type": "code",
   "execution_count": 39,
   "metadata": {},
   "outputs": [
    {
     "data": {
      "text/plain": [
       "'aabca'"
      ]
     },
     "execution_count": 39,
     "metadata": {},
     "output_type": "execute_result"
    }
   ],
   "source": [
    "# 去除两端空格\n",
    "\n",
    "line = '    \\n  \\t  aabca     \\n  \\t'\n",
    "line.strip()\n",
    "# line.lstrip()  去除左侧空格\n",
    "# line.rstrip() 去除右侧空格"
   ]
  },
  {
   "cell_type": "code",
   "execution_count": 131,
   "metadata": {},
   "outputs": [
    {
     "name": "stdout",
     "output_type": "stream",
     "text": [
      "I'm jj.\n",
      "I use Python.\n",
      "haha\n"
     ]
    }
   ],
   "source": [
    "### 3.字符串拼接\n",
    "\n",
    "#使用 + 加号拼接\n",
    "\n",
    "s1 = \"I'm jj.\"\n",
    "s2 = \"I use Python.\"\n",
    "s3 = \"haha\"\n",
    "s = s1 + '\\n' + s2 + '\\n' + s3\n",
    "print(s)"
   ]
  },
  {
   "cell_type": "code",
   "execution_count": 133,
   "metadata": {},
   "outputs": [
    {
     "data": {
      "text/plain": [
       "\"I'm jj.\\nI use Python.\\nhaha\""
      ]
     },
     "execution_count": 133,
     "metadata": {},
     "output_type": "execute_result"
    }
   ],
   "source": [
    "#使用 join() 函数\n",
    "\n",
    "s4 = '\\n'.join([s1,s2,s3])\n",
    "s4"
   ]
  },
  {
   "cell_type": "code",
   "execution_count": 134,
   "metadata": {},
   "outputs": [
    {
     "data": {
      "text/plain": [
       "'abcabcabcabcabc'"
      ]
     },
     "execution_count": 134,
     "metadata": {},
     "output_type": "execute_result"
    }
   ],
   "source": [
    "'abc' * 5"
   ]
  },
  {
   "cell_type": "code",
   "execution_count": 135,
   "metadata": {},
   "outputs": [
    {
     "data": {
      "text/plain": [
       "'abc&&&&e'"
      ]
     },
     "execution_count": 135,
     "metadata": {},
     "output_type": "execute_result"
    }
   ],
   "source": [
    "### 4.清洗字符串(replace,strip)\n",
    "\n",
    "# replace() 函数，实现替换\n",
    "\n",
    "\"@@@@@abc&&&&e@\".replace('@','')"
   ]
  },
  {
   "cell_type": "code",
   "execution_count": 137,
   "metadata": {},
   "outputs": [
    {
     "data": {
      "text/plain": [
       "'a\\nds\\tas'"
      ]
     },
     "execution_count": 137,
     "metadata": {},
     "output_type": "execute_result"
    }
   ],
   "source": [
    "# strip() 函数，清除首尾的 \\t \\n 空白\n",
    "\n",
    "\"\\na\\nds\\tas\\t\".strip()"
   ]
  },
  {
   "cell_type": "code",
   "execution_count": 138,
   "metadata": {},
   "outputs": [
    {
     "data": {
      "text/plain": [
       "['jj', '1232j', 'pp8']"
      ]
     },
     "execution_count": 138,
     "metadata": {},
     "output_type": "execute_result"
    }
   ],
   "source": [
    "#字符串分割为字符串列表\n",
    "\n",
    "\"jj\\n1232j\\npp8\".split('\\n')"
   ]
  },
  {
   "cell_type": "code",
   "execution_count": 139,
   "metadata": {},
   "outputs": [
    {
     "data": {
      "text/plain": [
       "['abc', 'abc', 'abc', '']"
      ]
     },
     "execution_count": 139,
     "metadata": {},
     "output_type": "execute_result"
    }
   ],
   "source": [
    "\"abcdabcdabcd\".split('d')"
   ]
  },
  {
   "cell_type": "code",
   "execution_count": 140,
   "metadata": {},
   "outputs": [
    {
     "name": "stdout",
     "output_type": "stream",
     "text": [
      "I'm 20 years old. My weight is 70.00 kg. I like game\n"
     ]
    }
   ],
   "source": [
    "### 5.格式化字符串( % 或 format)\n",
    "\n",
    "age = 20\n",
    "weight = 70\n",
    "hobby = 'game'\n",
    "\n",
    "fs = \"I'm %d years old. My weight is %.2f kg. I like %s\" % (age,weight,hobby)\n",
    "print(fs)"
   ]
  },
  {
   "cell_type": "code",
   "execution_count": 142,
   "metadata": {},
   "outputs": [
    {
     "name": "stdout",
     "output_type": "stream",
     "text": [
      "I'm 20 years old. My weight is 70.00 kg. I like game\n"
     ]
    }
   ],
   "source": [
    "ffs = \"I'm {} years old. My weight is {:.2f} kg. I like {}\".format(age,weight,hobby)\n",
    "print(ffs)"
   ]
  },
  {
   "cell_type": "markdown",
   "metadata": {},
   "source": [
    "# 九、元组tuple"
   ]
  },
  {
   "cell_type": "code",
   "execution_count": 1,
   "metadata": {},
   "outputs": [],
   "source": [
    "### 1.创建元组\n",
    "\n",
    "t = (1,2,3)\n",
    "t0 = ()\n",
    "t1 = (1,)  #后面加上逗号，否则括号是改变运算优先级的意义\n",
    "t2 = (1,2,3,)\n",
    "t3 = 1,2\n",
    "t4 = tuple([1,2,3]) #l列表转换为元组\n",
    "t5 = tuple('abc')"
   ]
  },
  {
   "cell_type": "markdown",
   "metadata": {},
   "source": [
    "**注意只有一个元素的元组的定义形式**"
   ]
  },
  {
   "cell_type": "code",
   "execution_count": 8,
   "metadata": {},
   "outputs": [],
   "source": [
    "### 2.使用元组\n",
    "\n",
    "t.count(1)   #查找值为1的元素个数\n",
    "t.index(3)   #查找值为3的元素索引\n",
    "\n",
    "# 使用元组对序列解包\n",
    "a,b = 1,2    #默认是将左右都转换为元组，再对应赋值\n",
    "t1,t2,t3 = [1,2,3]\n",
    "\n",
    "# 元组可以作为字典的key\n",
    "# d = {[1,2]:4}   使用列表作为key报错\n",
    "d = {(1,2):4}   #使用元组作为key"
   ]
  },
  {
   "cell_type": "code",
   "execution_count": 9,
   "metadata": {},
   "outputs": [
    {
     "name": "stdout",
     "output_type": "stream",
     "text": [
      "a =  1\n",
      "b =  2\n",
      "1 2 3\n",
      "{(1, 2): 4}\n"
     ]
    }
   ],
   "source": [
    "print('a = ',a)\n",
    "print('b = ',b)\n",
    "print(t1 , t2 , t3)\n",
    "print(d)"
   ]
  },
  {
   "cell_type": "code",
   "execution_count": 13,
   "metadata": {},
   "outputs": [
    {
     "data": {
      "text/plain": [
       "[0, 2, 3]"
      ]
     },
     "execution_count": 13,
     "metadata": {},
     "output_type": "execute_result"
    }
   ],
   "source": [
    "### 3.浅拷贝与深拷贝\n",
    "\n",
    "#可变对象的赋值是浅拷贝，改变一个的值即改变了另一个，不安全\n",
    "l = [1,2,3]\n",
    "l1 = l\n",
    "l1[0] = 0\n",
    "l"
   ]
  },
  {
   "cell_type": "code",
   "execution_count": 11,
   "metadata": {},
   "outputs": [],
   "source": [
    "#元组是不可变对象，可以直接赋值进行拷贝，由于元组的元素值不变，也是安全的\n",
    "t = (1,2,3)\n",
    "t1 = t"
   ]
  },
  {
   "cell_type": "code",
   "execution_count": 15,
   "metadata": {},
   "outputs": [
    {
     "data": {
      "text/plain": [
       "[0, 2, 3]"
      ]
     },
     "execution_count": 15,
     "metadata": {},
     "output_type": "execute_result"
    }
   ],
   "source": [
    "#深拷贝开辟新的内存空间，是安全的\n",
    "l3 = l.copy()\n",
    "l3[0] = 10\n",
    "l"
   ]
  },
  {
   "cell_type": "markdown",
   "metadata": {},
   "source": [
    "# 十、集合set"
   ]
  },
  {
   "cell_type": "code",
   "execution_count": 18,
   "metadata": {},
   "outputs": [
    {
     "data": {
      "text/plain": [
       "{0, 1, 4}"
      ]
     },
     "execution_count": 18,
     "metadata": {},
     "output_type": "execute_result"
    }
   ],
   "source": [
    "###  1.创建集合\n",
    "\n",
    "s = {1,2,3}\n",
    "s0 = set()\n",
    "s3 = {x**2 for x in range(3)}\n",
    "s3"
   ]
  },
  {
   "cell_type": "code",
   "execution_count": 16,
   "metadata": {},
   "outputs": [
    {
     "data": {
      "text/plain": [
       "dict"
      ]
     },
     "execution_count": 16,
     "metadata": {},
     "output_type": "execute_result"
    }
   ],
   "source": [
    "#不能用s0 = {}定义空集合，会被当做空字典\n",
    "type({})"
   ]
  },
  {
   "cell_type": "code",
   "execution_count": 19,
   "metadata": {},
   "outputs": [
    {
     "data": {
      "text/plain": [
       "6"
      ]
     },
     "execution_count": 19,
     "metadata": {},
     "output_type": "execute_result"
    }
   ],
   "source": [
    "### 2.使用集合\n",
    "\n",
    "# 去除重复对象，求交集，并集，补集等操作\n",
    "a = [1,2,3,3,5,6,7,5,5]\n",
    "len(set(a))   #总共有6个不重复的元素"
   ]
  },
  {
   "cell_type": "code",
   "execution_count": 21,
   "metadata": {},
   "outputs": [],
   "source": [
    "s1 = {1,2,3,6,7}\n",
    "s2 = {2,5,4,6,7}"
   ]
  },
  {
   "cell_type": "code",
   "execution_count": 22,
   "metadata": {},
   "outputs": [
    {
     "data": {
      "text/plain": [
       "{2, 6, 7}"
      ]
     },
     "execution_count": 22,
     "metadata": {},
     "output_type": "execute_result"
    }
   ],
   "source": [
    "#求交集\n",
    "s1 & s2"
   ]
  },
  {
   "cell_type": "code",
   "execution_count": 23,
   "metadata": {},
   "outputs": [
    {
     "data": {
      "text/plain": [
       "{1, 2, 3, 4, 5, 6, 7}"
      ]
     },
     "execution_count": 23,
     "metadata": {},
     "output_type": "execute_result"
    }
   ],
   "source": [
    "#并集\n",
    "s1 | s2"
   ]
  },
  {
   "cell_type": "code",
   "execution_count": 24,
   "metadata": {},
   "outputs": [
    {
     "data": {
      "text/plain": [
       "{1, 3}"
      ]
     },
     "execution_count": 24,
     "metadata": {},
     "output_type": "execute_result"
    }
   ],
   "source": [
    "#差集\n",
    "s1.difference(s2)"
   ]
  },
  {
   "cell_type": "markdown",
   "metadata": {},
   "source": [
    "# 十一、条件语句if"
   ]
  },
  {
   "cell_type": "code",
   "execution_count": 28,
   "metadata": {},
   "outputs": [
    {
     "data": {
      "text/plain": [
       "2"
      ]
     },
     "execution_count": 28,
     "metadata": {},
     "output_type": "execute_result"
    }
   ],
   "source": [
    "### 1. if 语句\n",
    "a,b = 1,2\n",
    "if a>b :\n",
    "    x = a\n",
    "else :\n",
    "    x = b\n",
    "x"
   ]
  },
  {
   "cell_type": "code",
   "execution_count": null,
   "metadata": {},
   "outputs": [],
   "source": [
    "# if...elif...elif...elif...else..."
   ]
  },
  {
   "cell_type": "code",
   "execution_count": 31,
   "metadata": {},
   "outputs": [
    {
     "name": "stdout",
     "output_type": "stream",
     "text": [
      "[1, 2, 3]\n",
      "{1, 2, 3}\n"
     ]
    }
   ],
   "source": [
    "### 2.逻辑运算符\n",
    "### 3. and  or\n",
    "#and 和 or 为短路运算，判断值确定之后就不再计算\n",
    "x = [] or [1,2,3] or {}  #计算到[1,2,3]\n",
    "print(x)\n",
    "y = 50 and [1] and {1,2,3}  #计算到结束时\n",
    "print(y)"
   ]
  },
  {
   "cell_type": "code",
   "execution_count": 32,
   "metadata": {
    "scrolled": true
   },
   "outputs": [
    {
     "name": "stdout",
     "output_type": "stream",
     "text": [
      "False\n",
      "True\n",
      "False\n",
      "True\n"
     ]
    }
   ],
   "source": [
    "print( bool('') )           #空字符串为false\n",
    "print( bool([1]) )      \n",
    "print( bool(0) )           #0为false\n",
    "print( bool(-1) )         #非0皆为true"
   ]
  },
  {
   "cell_type": "code",
   "execution_count": 1,
   "metadata": {},
   "outputs": [
    {
     "data": {
      "text/plain": [
       "0"
      ]
     },
     "execution_count": 1,
     "metadata": {},
     "output_type": "execute_result"
    }
   ],
   "source": [
    "#  &为位运算\n",
    "1 & 2     # 01和10 按位与 为 00"
   ]
  },
  {
   "cell_type": "code",
   "execution_count": 2,
   "metadata": {
    "scrolled": true
   },
   "outputs": [
    {
     "ename": "AssertionError",
     "evalue": "他竟然不是18岁！",
     "output_type": "error",
     "traceback": [
      "\u001b[1;31m---------------------------------------------------------------------------\u001b[0m",
      "\u001b[1;31mAssertionError\u001b[0m                            Traceback (most recent call last)",
      "\u001b[1;32m<ipython-input-2-93463d69c4b7>\u001b[0m in \u001b[0;36m<module>\u001b[1;34m\u001b[0m\n\u001b[0;32m      1\u001b[0m \u001b[1;31m### 3.断言\u001b[0m\u001b[1;33m\u001b[0m\u001b[1;33m\u001b[0m\u001b[1;33m\u001b[0m\u001b[0m\n\u001b[0;32m      2\u001b[0m \u001b[0mage\u001b[0m \u001b[1;33m=\u001b[0m \u001b[1;36m19\u001b[0m\u001b[1;33m\u001b[0m\u001b[1;33m\u001b[0m\u001b[0m\n\u001b[1;32m----> 3\u001b[1;33m \u001b[1;32massert\u001b[0m \u001b[0mage\u001b[0m \u001b[1;33m==\u001b[0m \u001b[1;36m18\u001b[0m\u001b[1;33m,\u001b[0m \u001b[1;34m'他竟然不是18岁！'\u001b[0m\u001b[1;33m\u001b[0m\u001b[1;33m\u001b[0m\u001b[0m\n\u001b[0m",
      "\u001b[1;31mAssertionError\u001b[0m: 他竟然不是18岁！"
     ]
    }
   ],
   "source": [
    "### 3.断言\n",
    "age = 19\n",
    "assert age == 18, '他竟然不是18岁！'"
   ]
  },
  {
   "cell_type": "markdown",
   "metadata": {},
   "source": [
    "* 注意：   \n",
    "        if  var == True :   #当var 是True、1、1.0、1L时 if 条件成立\n",
    "        if var is True :    #当 var 是True时条件成立，1也不行"
   ]
  },
  {
   "cell_type": "markdown",
   "metadata": {},
   "source": [
    "# 十二、循环语句 for,while"
   ]
  },
  {
   "cell_type": "code",
   "execution_count": 35,
   "metadata": {},
   "outputs": [
    {
     "name": "stdout",
     "output_type": "stream",
     "text": [
      "1\n",
      "2\n",
      "3\n",
      "5\n",
      "4\n"
     ]
    }
   ],
   "source": [
    "###  1.for循环\n",
    "\n",
    "# 遍历列表\n",
    "l = [1,2,3,5,4]\n",
    "for i in l :\n",
    "    print(i)"
   ]
  },
  {
   "cell_type": "code",
   "execution_count": 11,
   "metadata": {},
   "outputs": [
    {
     "name": "stdout",
     "output_type": "stream",
     "text": [
      "0\n",
      "1\n",
      "2\n",
      "3\n",
      "4\n"
     ]
    }
   ],
   "source": [
    "for i in range(5) :\n",
    "    print(i)"
   ]
  },
  {
   "cell_type": "code",
   "execution_count": 36,
   "metadata": {},
   "outputs": [
    {
     "name": "stdout",
     "output_type": "stream",
     "text": [
      "a : 1\n",
      "b : 3\n",
      "c : 2\n"
     ]
    }
   ],
   "source": [
    "# 遍历字典\n",
    "d = {'a':1, 'b':3, 'c': 2}\n",
    "for k,v in d.items() :\n",
    "    print(k,':',v)"
   ]
  },
  {
   "cell_type": "code",
   "execution_count": 37,
   "metadata": {},
   "outputs": [
    {
     "data": {
      "text/plain": [
       "dict_items([('a', 1), ('b', 3), ('c', 2)])"
      ]
     },
     "execution_count": 37,
     "metadata": {},
     "output_type": "execute_result"
    }
   ],
   "source": [
    "d.items()"
   ]
  },
  {
   "cell_type": "code",
   "execution_count": 38,
   "metadata": {},
   "outputs": [
    {
     "name": "stdout",
     "output_type": "stream",
     "text": [
      "5050 101\n"
     ]
    }
   ],
   "source": [
    "### 2.while循环\n",
    "\n",
    "# 求1+2+3+...+100\n",
    "s,i = 0,1\n",
    "while i <= 100 :\n",
    "    s = s + i\n",
    "    i = i + 1\n",
    "print(s,i)"
   ]
  },
  {
   "cell_type": "code",
   "execution_count": null,
   "metadata": {},
   "outputs": [],
   "source": [
    "### 3.循环控制 continue , break"
   ]
  },
  {
   "cell_type": "code",
   "execution_count": 17,
   "metadata": {},
   "outputs": [
    {
     "name": "stdout",
     "output_type": "stream",
     "text": [
      "4 是 偶数\n",
      "没有结束\n",
      "2 是 偶数\n",
      "没有结束\n",
      "4 是 偶数\n",
      "没有结束\n",
      "all\n"
     ]
    }
   ],
   "source": [
    "### 4.循环中的else语句：如果在循环的过程中没有通过break语句结束，\n",
    "#即循环正常执行完每一个循环，那就会执行else里的代码\n",
    "\n",
    "random_numbers = [4,2,4]\n",
    "for i in random_numbers :\n",
    "    if(i % 2 == 0) : \n",
    "        print('{} 是 偶数'.format(i))\n",
    "    else :\n",
    "        break\n",
    "    print('没有结束')\n",
    "else :\n",
    "    print('all')"
   ]
  },
  {
   "cell_type": "markdown",
   "metadata": {},
   "source": [
    "* for循环还可以构建推导式(能用for的情况下尽量用for循环)     \n",
    "详见后面十六章，Python推导式\n"
   ]
  },
  {
   "cell_type": "markdown",
   "metadata": {},
   "source": [
    "# 十三、函数"
   ]
  },
  {
   "cell_type": "code",
   "execution_count": 39,
   "metadata": {},
   "outputs": [
    {
     "name": "stdout",
     "output_type": "stream",
     "text": [
      "5\n",
      "10\n"
     ]
    }
   ],
   "source": [
    "### 1.函数参数：普通参数，默认参数，可变参数，关键字参数\n",
    "\n",
    "# 普通参数(位置参数),不可以改变位置\n",
    "def my_abs(x):\n",
    "    return(x if x > 0 else -x)\n",
    "print(my_abs(-5))\n",
    "print(my_abs( x = -10))     # ???"
   ]
  },
  {
   "cell_type": "code",
   "execution_count": 40,
   "metadata": {},
   "outputs": [
    {
     "name": "stdout",
     "output_type": "stream",
     "text": [
      "25\n",
      "125\n"
     ]
    }
   ],
   "source": [
    "# 默认参数 n(参数缺失时赋默认值)\n",
    "\n",
    "def my_power(x ,n = 2) :\n",
    "    return (x**n)\n",
    "print(my_power(5))\n",
    "print(my_power(5,3))\n"
   ]
  },
  {
   "cell_type": "code",
   "execution_count": 42,
   "metadata": {},
   "outputs": [
    {
     "name": "stdout",
     "output_type": "stream",
     "text": [
      "6\n",
      "0\n",
      "6\n",
      "6\n"
     ]
    }
   ],
   "source": [
    "# 可变参数 *args(可以传入不定长度参数序列，元组或列表)\n",
    "\n",
    "def my_sum(*args) :\n",
    "    s = 0\n",
    "    for i in args :\n",
    "        s = s + i\n",
    "    return s\n",
    "print( my_sum(1,2,3) )      #传入参数序列\n",
    "print( my_sum() )             #传入空参数\n",
    "print( my_sum( *(1,2,3)) )        #传入tuple元组\n",
    "print( my_sum( *[1,2,3]) )        #传入list列表"
   ]
  },
  {
   "cell_type": "code",
   "execution_count": 49,
   "metadata": {},
   "outputs": [
    {
     "data": {
      "text/plain": [
       "{'name': 'LiLei', 'age': 19, 'grade': '13', 'gender': 'male'}"
      ]
     },
     "execution_count": 49,
     "metadata": {},
     "output_type": "execute_result"
    }
   ],
   "source": [
    "# 关键字参数   **kv(可以传入字典)\n",
    "\n",
    "def student(name,age,**kv) :\n",
    "    d = {'name':name, 'age':age}\n",
    "    d.update(kv)\n",
    "    return d\n",
    "\n",
    "student('LiLei',19, grade = '13', gender = 'male')"
   ]
  },
  {
   "cell_type": "code",
   "execution_count": 51,
   "metadata": {},
   "outputs": [
    {
     "data": {
      "text/plain": [
       "{'name': 'LiHua', 'age': 19, 'grade': '11', 'father': 'jj'}"
      ]
     },
     "execution_count": 51,
     "metadata": {},
     "output_type": "execute_result"
    }
   ],
   "source": [
    "#甚至可以不按顺序输入，但是会为我们按顺序输出\n",
    "student(age = 19, name = 'LiHua', grade = '11', father = 'jj')"
   ]
  },
  {
   "cell_type": "code",
   "execution_count": 52,
   "metadata": {},
   "outputs": [
    {
     "data": {
      "text/plain": [
       "{'name': 'Jim', 'age': 19, 'grade': '13', 'gender': 'famale'}"
      ]
     },
     "execution_count": 52,
     "metadata": {},
     "output_type": "execute_result"
    }
   ],
   "source": [
    "#直接传入字典\n",
    "Jim = {'name': 'Jim', 'age': 19, 'grade': '13', 'gender': 'famale'}\n",
    "student(**Jim)"
   ]
  },
  {
   "cell_type": "code",
   "execution_count": 83,
   "metadata": {},
   "outputs": [],
   "source": [
    "#也可以混合输入\n",
    "def student(name,age,*args,**kv) :\n",
    "    print(name, age,args,kv)"
   ]
  },
  {
   "cell_type": "code",
   "execution_count": 88,
   "metadata": {
    "scrolled": true
   },
   "outputs": [
    {
     "name": "stdout",
     "output_type": "stream",
     "text": [
      "Jim 20 (11201124455, 112) {'Address': 'Chengdu', 'Country': 'China'}\n"
     ]
    }
   ],
   "source": [
    "student( 'Jim',20,11201124455,112,Address = 'Chengdu', Country = 'China')"
   ]
  },
  {
   "cell_type": "code",
   "execution_count": 53,
   "metadata": {},
   "outputs": [
    {
     "data": {
      "text/plain": [
       "6765"
      ]
     },
     "execution_count": 53,
     "metadata": {},
     "output_type": "execute_result"
    }
   ],
   "source": [
    "###  2.递归函数\n",
    "\n",
    "#递归函数调用自身\n",
    "\n",
    "def fib(n):\n",
    "    if n in [1,2] :\n",
    "        return 1\n",
    "    else :\n",
    "        return fib(n-1)+fib(n-2)\n",
    "fib(20)"
   ]
  },
  {
   "cell_type": "code",
   "execution_count": 92,
   "metadata": {},
   "outputs": [],
   "source": [
    "### 3.装饰器\n",
    "\n",
    "#函数可以当作函数的返回值进行返回\n",
    "\n",
    "#装饰器再不更改函数代码的前提下赋予函数额外的功能\n",
    "#通常把函数非核心逻辑 如插入日志、权限校验、性能测试 放在装饰器中\n",
    "\n",
    "import time\n",
    "def decorator(func) :\n",
    "    def wrapper(*args,**kv):\n",
    "        tic = time.time()\n",
    "        ans = func(*args, **kv)\n",
    "        toc = time.time()\n",
    "        print('{} is called. {}s used'.format(func.__name__,toc-tic))\n",
    "        return ans\n",
    "    return wrapper"
   ]
  },
  {
   "cell_type": "code",
   "execution_count": 93,
   "metadata": {},
   "outputs": [],
   "source": [
    "@decorator\n",
    "def my_sum(*args):\n",
    "    s = 0\n",
    "    for i in args :\n",
    "        s = s + i\n",
    "    return s\n",
    "# @decorater是一个语法糖\n",
    "# 相当于 my_sum = decorater(my_sum)"
   ]
  },
  {
   "cell_type": "code",
   "execution_count": 95,
   "metadata": {},
   "outputs": [
    {
     "name": "stdout",
     "output_type": "stream",
     "text": [
      "my_sum is called. 0.0010247230529785156s used\n"
     ]
    },
    {
     "data": {
      "text/plain": [
       "49995000"
      ]
     },
     "execution_count": 95,
     "metadata": {},
     "output_type": "execute_result"
    }
   ],
   "source": [
    "my_sum(*range(10000))"
   ]
  },
  {
   "cell_type": "code",
   "execution_count": 97,
   "metadata": {},
   "outputs": [
    {
     "name": "stdout",
     "output_type": "stream",
     "text": [
      "fib is called. 0.0s used\n",
      "fib is called. 0.0s used\n",
      "fib is called. 0.0s used\n",
      "fib is called. 0.0s used\n",
      "fib is called. 0.0009872913360595703s used\n",
      "fib is called. 0.0s used\n",
      "fib is called. 0.0s used\n",
      "fib is called. 0.0s used\n",
      "fib is called. 0.0009872913360595703s used\n",
      "fib is called. 0.0s used\n",
      "fib is called. 0.0s used\n",
      "fib is called. 0.0s used\n",
      "fib is called. 0.0s used\n",
      "fib is called. 0.0s used\n",
      "fib is called. 0.001966714859008789s used\n"
     ]
    },
    {
     "data": {
      "text/plain": [
       "8"
      ]
     },
     "execution_count": 97,
     "metadata": {},
     "output_type": "execute_result"
    }
   ],
   "source": [
    "@decorator\n",
    "def fib(n):\n",
    "    if n in [1,2]:\n",
    "        return 1\n",
    "    else:\n",
    "        return fib(n-1)+fib(n-2)\n",
    "        \n",
    "fib(6)"
   ]
  },
  {
   "cell_type": "code",
   "execution_count": 89,
   "metadata": {},
   "outputs": [
    {
     "data": {
      "text/plain": [
       "0.3974359344430699"
      ]
     },
     "execution_count": 89,
     "metadata": {},
     "output_type": "execute_result"
    }
   ],
   "source": [
    "import random\n",
    "\n",
    "#返回一个从0-1的浮点数\n",
    "def test() :\n",
    "    return random.random()\n",
    "\n",
    "test()"
   ]
  },
  {
   "cell_type": "code",
   "execution_count": 91,
   "metadata": {},
   "outputs": [
    {
     "data": {
      "text/plain": [
       "0.062"
      ]
     },
     "execution_count": 91,
     "metadata": {},
     "output_type": "execute_result"
    }
   ],
   "source": [
    "#现在我们想让这个函数返回的浮点数保留三位有效数字\n",
    "def decorator(func) :\n",
    "    def wrapper(*args, **kv):\n",
    "        return round(func(*args, **kv),3)\n",
    "    return wrapper\n",
    "\n",
    "@decorator\n",
    "def test() :\n",
    "    return random.random()\n",
    "test()"
   ]
  },
  {
   "cell_type": "markdown",
   "metadata": {},
   "source": [
    "# 十四、lambda匿名函数"
   ]
  },
  {
   "cell_type": "markdown",
   "metadata": {},
   "source": [
    "lambda 只是一个表达式，适合定义较为简单的函数   \n",
    "lambda函数的定义语法是    \n",
    "\n",
    "        fun = lambda 参数序列：返回值表达式\n",
    "\n",
    "一般来说通过使用lambda匿名函数可以节约程序开支并加快运行速度  "
   ]
  },
  {
   "cell_type": "code",
   "execution_count": 77,
   "metadata": {},
   "outputs": [
    {
     "data": {
      "text/plain": [
       "9"
      ]
     },
     "execution_count": 77,
     "metadata": {},
     "output_type": "execute_result"
    }
   ],
   "source": [
    "my_abs = lambda x: x if x>=0 else -x\n",
    "my_abs(-9)"
   ]
  },
  {
   "cell_type": "code",
   "execution_count": 76,
   "metadata": {},
   "outputs": [
    {
     "data": {
      "text/plain": [
       "-125"
      ]
     },
     "execution_count": 76,
     "metadata": {},
     "output_type": "execute_result"
    }
   ],
   "source": [
    "(lambda x,n=2 : x**n)(-5,3)"
   ]
  },
  {
   "cell_type": "code",
   "execution_count": 78,
   "metadata": {},
   "outputs": [],
   "source": [
    "student = lambda name,age,**kv:{'name':name,'age':age}.update(kv)\n",
    "student('LiLi',18,grade = '17')\n",
    "#这里，因为update函数没有返回值，所以不能得到正确的结果"
   ]
  },
  {
   "cell_type": "code",
   "execution_count": 79,
   "metadata": {},
   "outputs": [
    {
     "data": {
      "text/plain": [
       "{'name': 'LiLi', 'age': 18, 'grade': '17'}"
      ]
     },
     "execution_count": 79,
     "metadata": {},
     "output_type": "execute_result"
    }
   ],
   "source": [
    "student = lambda name,age,**kv:dict(name = name, age = age, **kv)\n",
    "student('LiLi',18,grade = '17')"
   ]
  },
  {
   "cell_type": "code",
   "execution_count": 80,
   "metadata": {},
   "outputs": [
    {
     "data": {
      "text/plain": [
       "3"
      ]
     },
     "execution_count": 80,
     "metadata": {},
     "output_type": "execute_result"
    }
   ],
   "source": [
    "#实现递归\n",
    "fib = lambda n:1 if n in [1,2] else fib(n-1)+fib(n-2)\n",
    "fib(4)"
   ]
  },
  {
   "cell_type": "markdown",
   "metadata": {},
   "source": [
    "# 十五、高阶函数"
   ]
  },
  {
   "cell_type": "markdown",
   "metadata": {},
   "source": [
    "以函数为参数的函数叫做高阶函数，常用的内置高阶函数有：map, reduce, filter      \n",
    "高阶函数和匿名函数搭配使用，堪称绝配"
   ]
  },
  {
   "cell_type": "code",
   "execution_count": 82,
   "metadata": {},
   "outputs": [
    {
     "data": {
      "text/plain": [
       "[1, 4, 9, 16]"
      ]
     },
     "execution_count": 82,
     "metadata": {},
     "output_type": "execute_result"
    }
   ],
   "source": [
    "### 1.map将一个函数作用到一个序列或者多个序列配对\n",
    "#map意思为映射\n",
    "\n",
    "list(map(lambda x : x**2,[1,2,3,4]))"
   ]
  },
  {
   "cell_type": "code",
   "execution_count": 83,
   "metadata": {},
   "outputs": [
    {
     "data": {
      "text/plain": [
       "['a1', 'b2', 'c3']"
      ]
     },
     "execution_count": 83,
     "metadata": {},
     "output_type": "execute_result"
    }
   ],
   "source": [
    "list(map(lambda x,y : x+y, 'abc','123'))"
   ]
  },
  {
   "cell_type": "code",
   "execution_count": 84,
   "metadata": {},
   "outputs": [
    {
     "data": {
      "text/plain": [
       "10"
      ]
     },
     "execution_count": 84,
     "metadata": {},
     "output_type": "execute_result"
    }
   ],
   "source": [
    "### 2.reduce 将一个带有两个参数的函数依次迭代作用到一个序列\n",
    "# reduce( f , [a,b,c,d] ) = f( f( f( a,b ),c ),d )\n",
    "\n",
    "from functools import reduce  #Python3里reduce不能直接使用\n",
    "reduce(lambda x,y : x+y, [1,2,3,4])"
   ]
  },
  {
   "cell_type": "code",
   "execution_count": 86,
   "metadata": {},
   "outputs": [
    {
     "data": {
      "text/plain": [
       "[1, 2]"
      ]
     },
     "execution_count": 86,
     "metadata": {},
     "output_type": "execute_result"
    }
   ],
   "source": [
    "### 3.filter 根据规则过滤序列中的元素\n",
    "\n",
    "list(filter(lambda x : x>0, [-1,-2,1,2]))"
   ]
  },
  {
   "cell_type": "markdown",
   "metadata": {},
   "source": [
    "# 十六、Python推导式"
   ]
  },
  {
   "cell_type": "markdown",
   "metadata": {},
   "source": [
    "Python推导式可以生成列表、字典和集合     \n",
    "Python推导式虽然简单，但表达能力很强，可以实现map，filter等功能，并且可以多重遍历   \n",
    "淋漓尽致的展现了Python语言的simple、readable、powerful的特点"
   ]
  },
  {
   "cell_type": "code",
   "execution_count": 87,
   "metadata": {},
   "outputs": [
    {
     "data": {
      "text/plain": [
       "[0, 1, 4, 9]"
      ]
     },
     "execution_count": 87,
     "metadata": {},
     "output_type": "execute_result"
    }
   ],
   "source": [
    "### 1.列表推导式\n",
    "\n",
    "#生成一个平方数序列\n",
    "\n",
    "[x**2 for x in range(4)]"
   ]
  },
  {
   "cell_type": "code",
   "execution_count": 88,
   "metadata": {},
   "outputs": [
    {
     "data": {
      "text/plain": [
       "[1, 2, 3, 4, 2]"
      ]
     },
     "execution_count": 88,
     "metadata": {},
     "output_type": "execute_result"
    }
   ],
   "source": [
    "# 求序列的绝对值\n",
    "#map(lambda x: x if x >0 else -x, l)\n",
    "\n",
    "l = [-1,-2,3,4,-2]\n",
    "[x if x>0 else -x for x in l]"
   ]
  },
  {
   "cell_type": "code",
   "execution_count": 89,
   "metadata": {},
   "outputs": [
    {
     "data": {
      "text/plain": [
       "[3, 4]"
      ]
     },
     "execution_count": 89,
     "metadata": {},
     "output_type": "execute_result"
    }
   ],
   "source": [
    "#过滤序列中的元素\n",
    "# list(filter( lambda x: x>0, l) )\n",
    "\n",
    "[x for x in l if x > 0]"
   ]
  },
  {
   "cell_type": "code",
   "execution_count": 92,
   "metadata": {},
   "outputs": [
    {
     "data": {
      "text/plain": [
       "[('Jim', 'Mary'), ('Jim', 'Lily'), ('John', 'Mary'), ('John', 'Lily')]"
      ]
     },
     "execution_count": 92,
     "metadata": {},
     "output_type": "execute_result"
    }
   ],
   "source": [
    "#多重遍历\n",
    "girls = ['Mary','Lily']\n",
    "boys = ['Jim','John']\n",
    "couples = [ (b,g) for b in boys for g in girls ]\n",
    "couples"
   ]
  },
  {
   "cell_type": "code",
   "execution_count": 94,
   "metadata": {},
   "outputs": [
    {
     "data": {
      "text/plain": [
       "{1: 'Spring', 2: 'Summer', 3: 'Autumn', 4: 'Winter'}"
      ]
     },
     "execution_count": 94,
     "metadata": {},
     "output_type": "execute_result"
    }
   ],
   "source": [
    "### 2.字典推导式\n",
    "\n",
    "seasons = ['Spring','Summer','Autumn','Winter']\n",
    "d = { k : v for k ,v in enumerate(seasons, start = 1) }\n",
    "d"
   ]
  },
  {
   "cell_type": "code",
   "execution_count": 96,
   "metadata": {},
   "outputs": [
    {
     "data": {
      "text/plain": [
       "[(1, 'Spring'), (2, 'Summer'), (3, 'Autumn'), (4, 'Winter')]"
      ]
     },
     "execution_count": 96,
     "metadata": {},
     "output_type": "execute_result"
    }
   ],
   "source": [
    "list(enumerate(seasons, start = 1))"
   ]
  },
  {
   "cell_type": "code",
   "execution_count": 97,
   "metadata": {},
   "outputs": [
    {
     "data": {
      "text/plain": [
       "{'a': 1, 'b': 2, 'c': 3}"
      ]
     },
     "execution_count": 97,
     "metadata": {},
     "output_type": "execute_result"
    }
   ],
   "source": [
    "keys = ['a','b','c']\n",
    "values = [1,2,3]\n",
    "D = {k : v  for k,v in zip(keys,values)}\n",
    "D"
   ]
  },
  {
   "cell_type": "code",
   "execution_count": 98,
   "metadata": {},
   "outputs": [
    {
     "data": {
      "text/plain": [
       "{1, 2, 3}"
      ]
     },
     "execution_count": 98,
     "metadata": {},
     "output_type": "execute_result"
    }
   ],
   "source": [
    "### 3.集合推导式\n",
    "\n",
    "#生成集合\n",
    "{abs(x) for x in [-1,-2,1,1,2,3]}"
   ]
  },
  {
   "cell_type": "code",
   "execution_count": 103,
   "metadata": {},
   "outputs": [
    {
     "data": {
      "text/plain": [
       "{2, 4}"
      ]
     },
     "execution_count": 103,
     "metadata": {},
     "output_type": "execute_result"
    }
   ],
   "source": [
    "# 求两个集合的交集\n",
    "a = {1,2,5,4}\n",
    "b = (2,4,6,8)\n",
    "\n",
    "#a.intersection(b)\n",
    "{x for x in a if x in b} #???????????????????????"
   ]
  },
  {
   "cell_type": "markdown",
   "metadata": {},
   "source": [
    "# 十七、类和对象"
   ]
  },
  {
   "cell_type": "code",
   "execution_count": 111,
   "metadata": {},
   "outputs": [],
   "source": [
    "### 1.创建类和对象\n",
    "\n",
    "#创建一个类\n",
    "class Dog(object) :\n",
    "    def __init__(self, name, weight, breed, age) :\n",
    "        self.name = name\n",
    "        self.weight = weight\n",
    "        self.breed = breed\n",
    "        \n",
    "        # __age为私有属性\n",
    "        self.__age = age\n",
    "        \n",
    "    def run(self) : \n",
    "        print('%s is running...'%(self.name))\n",
    "        \n",
    "    def bark(self) :\n",
    "        print('Wang!')\n",
    "        \n",
    "    def eat(self, food) :\n",
    "        print('%s is eating %s'%(self.name, food))\n",
    "        \n",
    "    def sleep(self) :\n",
    "        print('Zzz...Zzz...Zzz.......')\n",
    "    \n",
    "    # think为私有方法\n",
    "    def __think(self) :\n",
    "        print('I feel myself a hero and very handsome !')\n",
    "        \n",
    "    def speak(self,words = '') :\n",
    "        self.__think()\n",
    "        if(words) :\n",
    "            print(words)\n",
    "    "
   ]
  },
  {
   "cell_type": "code",
   "execution_count": 112,
   "metadata": {},
   "outputs": [
    {
     "name": "stdout",
     "output_type": "stream",
     "text": [
      "snoopy is running...\n",
      "Wang!\n",
      "snoopy is eating meat\n",
      "Zzz...Zzz...Zzz.......\n",
      "I feel myself a hero and very handsome !\n",
      "HaHaHa\n"
     ]
    }
   ],
   "source": [
    "#实例化对象\n",
    "\n",
    "snoopy = Dog('snoopy',3,'Husky',4)\n",
    "\n",
    "#调用共有属性和公有方法\n",
    "\n",
    "snoopy.breed\n",
    "# snoopy.__age私有属性不能在类外部访问\n",
    "snoopy.run()\n",
    "snoopy.bark()\n",
    "snoopy.eat('meat')\n",
    "snoopy.sleep()\n",
    "snoopy.speak('HaHaHa')\n",
    "# snoopy.__think()私有方法不能在类外部访问"
   ]
  },
  {
   "cell_type": "code",
   "execution_count": 113,
   "metadata": {},
   "outputs": [
    {
     "data": {
      "text/plain": [
       "(int, bool, __main__.Dog, builtin_function_or_method, list)"
      ]
     },
     "execution_count": 113,
     "metadata": {},
     "output_type": "execute_result"
    }
   ],
   "source": [
    "### 2.获取对象信息\n",
    "\n",
    "# type 查看对象的类别\n",
    "# Python中万物皆为对象\n",
    "\n",
    "type(1), type(False), type(snoopy), type(len), type([1,2,3])"
   ]
  },
  {
   "cell_type": "code",
   "execution_count": 114,
   "metadata": {},
   "outputs": [
    {
     "data": {
      "text/plain": [
       "True"
      ]
     },
     "execution_count": 114,
     "metadata": {},
     "output_type": "execute_result"
    }
   ],
   "source": [
    "# isinstance() 测试一个对象是否属于某个类\n",
    "isinstance({1,2,3},set)"
   ]
  },
  {
   "cell_type": "code",
   "execution_count": 115,
   "metadata": {},
   "outputs": [
    {
     "data": {
      "text/plain": [
       "True"
      ]
     },
     "execution_count": 115,
     "metadata": {},
     "output_type": "execute_result"
    }
   ],
   "source": [
    "isinstance(max,object)"
   ]
  },
  {
   "cell_type": "code",
   "execution_count": 117,
   "metadata": {},
   "outputs": [
    {
     "data": {
      "text/plain": [
       "False"
      ]
     },
     "execution_count": 117,
     "metadata": {},
     "output_type": "execute_result"
    }
   ],
   "source": [
    "#同时判断是否属于多个类中的一种\n",
    "isinstance(123,(list, str, float))"
   ]
  },
  {
   "cell_type": "markdown",
   "metadata": {},
   "source": [
    "# 十八、封装和继承"
   ]
  },
  {
   "cell_type": "code",
   "execution_count": 118,
   "metadata": {},
   "outputs": [],
   "source": [
    "### 1.封装\n",
    "#公有属性和公有方法\n",
    "#私有属性和私有方法：以双下划线开头\n",
    "#定制属性和定制方法：以双下划线开头和双下划线结尾\n",
    "# __init__  构造函数，通过类名调用\n",
    "# __str__   通过str函数调用\n",
    "# __len__  通过len函数调用\n",
    "# ......\n",
    "\n",
    "#类属性和类方法：在__init__外部定义的为类属性\n",
    "#第一个参数不是self参数的方法为类方法。"
   ]
  },
  {
   "cell_type": "code",
   "execution_count": 145,
   "metadata": {},
   "outputs": [],
   "source": [
    "class Animal(object) :\n",
    "    #类属性\n",
    "    home = 'earth'\n",
    "    \n",
    "    #类方法\n",
    "    def dream() :\n",
    "        print('No deal, no hurt !')\n",
    "     \n",
    "    #构造方法\n",
    "    def __init__(self, name, weight, breed, age) :\n",
    "        self.name = name\n",
    "        self.weight = weight\n",
    "        self.breed = breed\n",
    "        \n",
    "        # __age为私有属性\n",
    "        self.__age = age\n",
    "        \n",
    "    #定制方法    \n",
    "    def __str__(self) :       #通过对象访问的\n",
    "        return 'An animal named %s'%(self.name)       \n",
    "    \n",
    "    \n",
    "    def run(self) : \n",
    "        print('%s is running...'%(self.name))\n",
    "        \n",
    "    def eat(self, food) :\n",
    "        print('%s is eating %s'%(self.name, food))\n",
    "    \n",
    "    # think为私有方法\n",
    "    def __think(self) :\n",
    "        print('I feel myself a hero and very handsome !')\n",
    "        \n",
    "    def speak(self,words = '') :\n",
    "        self.__think()\n",
    "        if(words) :\n",
    "            print(words)"
   ]
  },
  {
   "cell_type": "code",
   "execution_count": 146,
   "metadata": {},
   "outputs": [
    {
     "name": "stdout",
     "output_type": "stream",
     "text": [
      "earth-------earth\n"
     ]
    }
   ],
   "source": [
    "snoopy = Animal('snoopy', 3,' Husky', 4)\n",
    "print(snoopy.home+'-------'+Animal.home)"
   ]
  },
  {
   "cell_type": "code",
   "execution_count": 147,
   "metadata": {},
   "outputs": [
    {
     "data": {
      "text/plain": [
       "'Jupyter'"
      ]
     },
     "execution_count": 147,
     "metadata": {},
     "output_type": "execute_result"
    }
   ],
   "source": [
    "Animal.home = 'Jupyter'\n",
    "snoopy.home"
   ]
  },
  {
   "cell_type": "code",
   "execution_count": 148,
   "metadata": {},
   "outputs": [
    {
     "data": {
      "text/plain": [
       "'Jupyter'"
      ]
     },
     "execution_count": 148,
     "metadata": {},
     "output_type": "execute_result"
    }
   ],
   "source": [
    "snoopy.home = 'earth'   #实际上是新增了snoopy.home 属性，类属性没有变化\n",
    "Animal.home"
   ]
  },
  {
   "cell_type": "code",
   "execution_count": 149,
   "metadata": {},
   "outputs": [],
   "source": [
    "del(snoopy.home)"
   ]
  },
  {
   "cell_type": "code",
   "execution_count": 150,
   "metadata": {},
   "outputs": [
    {
     "data": {
      "text/plain": [
       "'Jupyter'"
      ]
     },
     "execution_count": 150,
     "metadata": {},
     "output_type": "execute_result"
    }
   ],
   "source": [
    "#通过对象能够访问，但是不能够修改类属性\n",
    "snoopy.home"
   ]
  },
  {
   "cell_type": "code",
   "execution_count": 151,
   "metadata": {},
   "outputs": [
    {
     "name": "stdout",
     "output_type": "stream",
     "text": [
      "No deal, no hurt !\n"
     ]
    }
   ],
   "source": [
    "Animal.dream()"
   ]
  },
  {
   "cell_type": "code",
   "execution_count": 152,
   "metadata": {},
   "outputs": [
    {
     "ename": "TypeError",
     "evalue": "dream() takes 0 positional arguments but 1 was given",
     "output_type": "error",
     "traceback": [
      "\u001b[1;31m---------------------------------------------------------------------------\u001b[0m",
      "\u001b[1;31mTypeError\u001b[0m                                 Traceback (most recent call last)",
      "\u001b[1;32m<ipython-input-152-56cebefd8328>\u001b[0m in \u001b[0;36m<module>\u001b[1;34m\u001b[0m\n\u001b[0;32m      1\u001b[0m \u001b[1;31m# 类方法只能通过类名访问，不能通过对象访问\u001b[0m\u001b[1;33m\u001b[0m\u001b[1;33m\u001b[0m\u001b[1;33m\u001b[0m\u001b[0m\n\u001b[1;32m----> 2\u001b[1;33m \u001b[0msnoopy\u001b[0m\u001b[1;33m.\u001b[0m\u001b[0mdream\u001b[0m\u001b[1;33m(\u001b[0m\u001b[1;33m)\u001b[0m\u001b[1;33m\u001b[0m\u001b[1;33m\u001b[0m\u001b[0m\n\u001b[0m",
      "\u001b[1;31mTypeError\u001b[0m: dream() takes 0 positional arguments but 1 was given"
     ]
    }
   ],
   "source": [
    "# 类方法只能通过类名访问，不能通过对象访问\n",
    "snoopy.dream()"
   ]
  },
  {
   "cell_type": "code",
   "execution_count": 153,
   "metadata": {},
   "outputs": [
    {
     "name": "stdout",
     "output_type": "stream",
     "text": [
      "snoopy is running...\n"
     ]
    }
   ],
   "source": [
    "# 通过类名也可以访问对象的方法\n",
    "Animal.run(snoopy)"
   ]
  },
  {
   "cell_type": "code",
   "execution_count": 154,
   "metadata": {},
   "outputs": [
    {
     "data": {
      "text/plain": [
       "'An animal named snoopy'"
      ]
     },
     "execution_count": 154,
     "metadata": {},
     "output_type": "execute_result"
    }
   ],
   "source": [
    "# 定制方法有特殊的功能\n",
    "str(snoopy)"
   ]
  },
  {
   "cell_type": "code",
   "execution_count": 155,
   "metadata": {},
   "outputs": [
    {
     "data": {
      "text/plain": [
       "'abc123def'"
      ]
     },
     "execution_count": 155,
     "metadata": {},
     "output_type": "execute_result"
    }
   ],
   "source": [
    "# 句点符号\n",
    "\n",
    "s = 'abc#123@def'\n",
    "s.replace('#','').replace('@','')"
   ]
  },
  {
   "cell_type": "code",
   "execution_count": null,
   "metadata": {},
   "outputs": [],
   "source": [
    "dir(s)  #查看全部可用属性和方法"
   ]
  },
  {
   "cell_type": "code",
   "execution_count": 156,
   "metadata": {},
   "outputs": [],
   "source": [
    "### 2.继承\n",
    "\n",
    "#子类可以通过继承获得父类的属性和方法\n",
    "\n",
    "class Cat(Animal) :\n",
    "    pass\n"
   ]
  },
  {
   "cell_type": "code",
   "execution_count": 157,
   "metadata": {},
   "outputs": [],
   "source": [
    "kitty = Cat('Kitty',1,'Bose',2)"
   ]
  },
  {
   "cell_type": "code",
   "execution_count": 158,
   "metadata": {},
   "outputs": [
    {
     "name": "stdout",
     "output_type": "stream",
     "text": [
      "Kitty is running...\n"
     ]
    }
   ],
   "source": [
    "kitty.run()"
   ]
  },
  {
   "cell_type": "code",
   "execution_count": 159,
   "metadata": {},
   "outputs": [
    {
     "name": "stdout",
     "output_type": "stream",
     "text": [
      "I feel myself a hero and very handsome !\n",
      "Miao~\n"
     ]
    }
   ],
   "source": [
    "kitty.speak('Miao~')"
   ]
  },
  {
   "cell_type": "markdown",
   "metadata": {},
   "source": [
    "# 十九、模块和包"
   ]
  },
  {
   "cell_type": "markdown",
   "metadata": {},
   "source": [
    "一个.py文件就是一个模块    \n",
    "一个包含有 \\_\\_init\\_\\_.py 文件的文件夹就是一个包"
   ]
  },
  {
   "cell_type": "code",
   "execution_count": null,
   "metadata": {},
   "outputs": [],
   "source": []
  },
  {
   "cell_type": "code",
   "execution_count": null,
   "metadata": {},
   "outputs": [],
   "source": []
  },
  {
   "cell_type": "code",
   "execution_count": null,
   "metadata": {},
   "outputs": [],
   "source": []
  },
  {
   "cell_type": "code",
   "execution_count": null,
   "metadata": {},
   "outputs": [],
   "source": []
  },
  {
   "cell_type": "code",
   "execution_count": null,
   "metadata": {},
   "outputs": [],
   "source": []
  },
  {
   "cell_type": "code",
   "execution_count": null,
   "metadata": {},
   "outputs": [],
   "source": []
  },
  {
   "cell_type": "code",
   "execution_count": null,
   "metadata": {},
   "outputs": [],
   "source": []
  },
  {
   "cell_type": "code",
   "execution_count": null,
   "metadata": {},
   "outputs": [],
   "source": []
  },
  {
   "cell_type": "code",
   "execution_count": null,
   "metadata": {},
   "outputs": [],
   "source": []
  },
  {
   "cell_type": "code",
   "execution_count": null,
   "metadata": {},
   "outputs": [],
   "source": []
  },
  {
   "cell_type": "code",
   "execution_count": null,
   "metadata": {},
   "outputs": [],
   "source": []
  }
 ],
 "metadata": {
  "kernelspec": {
   "display_name": "Python 3",
   "language": "python",
   "name": "python3"
  },
  "language_info": {
   "codemirror_mode": {
    "name": "ipython",
    "version": 3
   },
   "file_extension": ".py",
   "mimetype": "text/x-python",
   "name": "python",
   "nbconvert_exporter": "python",
   "pygments_lexer": "ipython3",
   "version": "3.7.3"
  }
 },
 "nbformat": 4,
 "nbformat_minor": 2
}
